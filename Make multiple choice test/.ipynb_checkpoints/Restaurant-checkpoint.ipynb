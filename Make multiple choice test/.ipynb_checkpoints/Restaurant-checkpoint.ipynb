{
 "cells": [
  {
   "cell_type": "code",
   "execution_count": 2,
   "metadata": {},
   "outputs": [
    {
     "name": "stdin",
     "output_type": "stream",
     "text": [
      "Edamame?\n",
      "{'Ad': 'Add-on', 'Ap': 'Appetizer', 'C': 'Curry', 'D': 'Dessert', 'E': 'Entree', 'F': 'Fried Rice', 'K': 'Kid', 'N': 'Noodle', 'Sa': 'Salad', 'So': 'Soup', 'Sp': 'Special'} ap\n"
     ]
    },
    {
     "name": "stdout",
     "output_type": "stream",
     "text": [
      "Correct!\n"
     ]
    },
    {
     "name": "stdin",
     "output_type": "stream",
     "text": [
      "Curry Noodle?\n",
      "{'Ad': 'Add-on', 'Ap': 'Appetizer', 'C': 'Curry', 'D': 'Dessert', 'E': 'Entree', 'F': 'Fried Rice', 'K': 'Kid', 'N': 'Noodle', 'Sa': 'Salad', 'So': 'Soup', 'Sp': 'Special'} sp\n"
     ]
    },
    {
     "name": "stdout",
     "output_type": "stream",
     "text": [
      "Correct!\n"
     ]
    },
    {
     "name": "stdin",
     "output_type": "stream",
     "text": [
      "Shrimp & Prok Dumplings?\n",
      "{'Ad': 'Add-on', 'Ap': 'Appetizer', 'C': 'Curry', 'D': 'Dessert', 'E': 'Entree', 'F': 'Fried Rice', 'K': 'Kid', 'N': 'Noodle', 'Sa': 'Salad', 'So': 'Soup', 'Sp': 'Special'} ap\n"
     ]
    },
    {
     "name": "stdout",
     "output_type": "stream",
     "text": [
      "Correct!\n"
     ]
    },
    {
     "name": "stdin",
     "output_type": "stream",
     "text": [
      "Side fried rice?\n",
      "{'Ad': 'Add-on', 'Ap': 'Appetizer', 'C': 'Curry', 'D': 'Dessert', 'E': 'Entree', 'F': 'Fried Rice', 'K': 'Kid', 'N': 'Noodle', 'Sa': 'Salad', 'So': 'Soup', 'Sp': 'Special'} ad\n"
     ]
    },
    {
     "name": "stdout",
     "output_type": "stream",
     "text": [
      "Correct!\n"
     ]
    },
    {
     "name": "stdin",
     "output_type": "stream",
     "text": [
      "Thai Basil?\n",
      "{'Ad': 'Add-on', 'Ap': 'Appetizer', 'C': 'Curry', 'D': 'Dessert', 'E': 'Entree', 'F': 'Fried Rice', 'K': 'Kid', 'N': 'Noodle', 'Sa': 'Salad', 'So': 'Soup', 'Sp': 'Special'} ap\n"
     ]
    },
    {
     "name": "stdout",
     "output_type": "stream",
     "text": [
      "\u001b[31mWrong!\u001b[0m The category of \u001b[33mThai Basil\u001b[0m is \u001b[35mEntree\u001b[0m\n"
     ]
    },
    {
     "name": "stdin",
     "output_type": "stream",
     "text": [
      "Green?\n",
      "{'Ad': 'Add-on', 'Ap': 'Appetizer', 'C': 'Curry', 'D': 'Dessert', 'E': 'Entree', 'F': 'Fried Rice', 'K': 'Kid', 'N': 'Noodle', 'Sa': 'Salad', 'So': 'Soup', 'Sp': 'Special'} c\n"
     ]
    },
    {
     "name": "stdout",
     "output_type": "stream",
     "text": [
      "Correct!\n"
     ]
    },
    {
     "name": "stdin",
     "output_type": "stream",
     "text": [
      "Cheese rolls?\n",
      "{'Ad': 'Add-on', 'Ap': 'Appetizer', 'C': 'Curry', 'D': 'Dessert', 'E': 'Entree', 'F': 'Fried Rice', 'K': 'Kid', 'N': 'Noodle', 'Sa': 'Salad', 'So': 'Soup', 'Sp': 'Special'} ap\n"
     ]
    },
    {
     "name": "stdout",
     "output_type": "stream",
     "text": [
      "Correct!\n"
     ]
    },
    {
     "name": "stdin",
     "output_type": "stream",
     "text": [
      "Broccoli Stir Fry?\n",
      "{'Ad': 'Add-on', 'Ap': 'Appetizer', 'C': 'Curry', 'D': 'Dessert', 'E': 'Entree', 'F': 'Fried Rice', 'K': 'Kid', 'N': 'Noodle', 'Sa': 'Salad', 'So': 'Soup', 'Sp': 'Special'} e\n"
     ]
    },
    {
     "name": "stdout",
     "output_type": "stream",
     "text": [
      "Correct!\n"
     ]
    },
    {
     "name": "stdin",
     "output_type": "stream",
     "text": [
      "Kid's SS chicken with white rice?\n",
      "{'Ad': 'Add-on', 'Ap': 'Appetizer', 'C': 'Curry', 'D': 'Dessert', 'E': 'Entree', 'F': 'Fried Rice', 'K': 'Kid', 'N': 'Noodle', 'Sa': 'Salad', 'So': 'Soup', 'Sp': 'Special'} k\n"
     ]
    },
    {
     "name": "stdout",
     "output_type": "stream",
     "text": [
      "Correct!\n"
     ]
    },
    {
     "name": "stdin",
     "output_type": "stream",
     "text": [
      "Som Tum?\n",
      "{'Ad': 'Add-on', 'Ap': 'Appetizer', 'C': 'Curry', 'D': 'Dessert', 'E': 'Entree', 'F': 'Fried Rice', 'K': 'Kid', 'N': 'Noodle', 'Sa': 'Salad', 'So': 'Soup', 'Sp': 'Special'} so\n"
     ]
    },
    {
     "name": "stdout",
     "output_type": "stream",
     "text": [
      "\u001b[31mWrong!\u001b[0m The category of \u001b[33mSom Tum\u001b[0m is \u001b[35mSalad\u001b[0m\n"
     ]
    },
    {
     "name": "stdin",
     "output_type": "stream",
     "text": [
      "Stir-fry Veggies?\n",
      "{'Ad': 'Add-on', 'Ap': 'Appetizer', 'C': 'Curry', 'D': 'Dessert', 'E': 'Entree', 'F': 'Fried Rice', 'K': 'Kid', 'N': 'Noodle', 'Sa': 'Salad', 'So': 'Soup', 'Sp': 'Special'} e\n"
     ]
    },
    {
     "name": "stdout",
     "output_type": "stream",
     "text": [
      "Correct!\n"
     ]
    },
    {
     "name": "stdin",
     "output_type": "stream",
     "text": [
      "Coconut / green tea / vanilla ice cream?\n",
      "{'Ad': 'Add-on', 'Ap': 'Appetizer', 'C': 'Curry', 'D': 'Dessert', 'E': 'Entree', 'F': 'Fried Rice', 'K': 'Kid', 'N': 'Noodle', 'Sa': 'Salad', 'So': 'Soup', 'Sp': 'Special'} d\n"
     ]
    },
    {
     "name": "stdout",
     "output_type": "stream",
     "text": [
      "Correct!\n"
     ]
    },
    {
     "name": "stdin",
     "output_type": "stream",
     "text": [
      "Pineaple Fried Rice: Chicken, Pork, Veggies, or Tofu?\n",
      "{'Ad': 'Add-on', 'Ap': 'Appetizer', 'C': 'Curry', 'D': 'Dessert', 'E': 'Entree', 'F': 'Fried Rice', 'K': 'Kid', 'N': 'Noodle', 'Sa': 'Salad', 'So': 'Soup', 'Sp': 'Special'} f\n"
     ]
    },
    {
     "name": "stdout",
     "output_type": "stream",
     "text": [
      "Correct!\n"
     ]
    },
    {
     "name": "stdin",
     "output_type": "stream",
     "text": [
      "Sticky rice?\n",
      "{'Ad': 'Add-on', 'Ap': 'Appetizer', 'C': 'Curry', 'D': 'Dessert', 'E': 'Entree', 'F': 'Fried Rice', 'K': 'Kid', 'N': 'Noodle', 'Sa': 'Salad', 'So': 'Soup', 'Sp': 'Special'} ad\n"
     ]
    },
    {
     "name": "stdout",
     "output_type": "stream",
     "text": [
      "Correct!\n"
     ]
    },
    {
     "name": "stdin",
     "output_type": "stream",
     "text": [
      "Pla Nueng Ma Naw?\n",
      "{'Ad': 'Add-on', 'Ap': 'Appetizer', 'C': 'Curry', 'D': 'Dessert', 'E': 'Entree', 'F': 'Fried Rice', 'K': 'Kid', 'N': 'Noodle', 'Sa': 'Salad', 'So': 'Soup', 'Sp': 'Special'} sp\n"
     ]
    },
    {
     "name": "stdout",
     "output_type": "stream",
     "text": [
      "Correct!\n"
     ]
    },
    {
     "name": "stdin",
     "output_type": "stream",
     "text": [
      "Basil Eggplant?\n",
      "{'Ad': 'Add-on', 'Ap': 'Appetizer', 'C': 'Curry', 'D': 'Dessert', 'E': 'Entree', 'F': 'Fried Rice', 'K': 'Kid', 'N': 'Noodle', 'Sa': 'Salad', 'So': 'Soup', 'Sp': 'Special'} e\n"
     ]
    },
    {
     "name": "stdout",
     "output_type": "stream",
     "text": [
      "Correct!\n"
     ]
    },
    {
     "name": "stdin",
     "output_type": "stream",
     "text": [
      "Tom Kha Chicken or Tofu?\n",
      "{'Ad': 'Add-on', 'Ap': 'Appetizer', 'C': 'Curry', 'D': 'Dessert', 'E': 'Entree', 'F': 'Fried Rice', 'K': 'Kid', 'N': 'Noodle', 'Sa': 'Salad', 'So': 'Soup', 'Sp': 'Special'} s\n"
     ]
    },
    {
     "name": "stdout",
     "output_type": "stream",
     "text": [
      "Please answer again\n"
     ]
    },
    {
     "name": "stdin",
     "output_type": "stream",
     "text": [
      "Tom Kha Chicken or Tofu?\n",
      "{'Ad': 'Add-on', 'Ap': 'Appetizer', 'C': 'Curry', 'D': 'Dessert', 'E': 'Entree', 'F': 'Fried Rice', 'K': 'Kid', 'N': 'Noodle', 'Sa': 'Salad', 'So': 'Soup', 'Sp': 'Special'} so\n"
     ]
    },
    {
     "name": "stdout",
     "output_type": "stream",
     "text": [
      "Correct!\n"
     ]
    },
    {
     "name": "stdin",
     "output_type": "stream",
     "text": [
      "Pork Spareribs?\n",
      "{'Ad': 'Add-on', 'Ap': 'Appetizer', 'C': 'Curry', 'D': 'Dessert', 'E': 'Entree', 'F': 'Fried Rice', 'K': 'Kid', 'N': 'Noodle', 'Sa': 'Salad', 'So': 'Soup', 'Sp': 'Special'} ap\n"
     ]
    },
    {
     "name": "stdout",
     "output_type": "stream",
     "text": [
      "Correct!\n"
     ]
    },
    {
     "name": "stdin",
     "output_type": "stream",
     "text": [
      "Fried chicken wings?\n",
      "{'Ad': 'Add-on', 'Ap': 'Appetizer', 'C': 'Curry', 'D': 'Dessert', 'E': 'Entree', 'F': 'Fried Rice', 'K': 'Kid', 'N': 'Noodle', 'Sa': 'Salad', 'So': 'Soup', 'Sp': 'Special'} ap\n"
     ]
    },
    {
     "name": "stdout",
     "output_type": "stream",
     "text": [
      "Correct!\n"
     ]
    },
    {
     "name": "stdin",
     "output_type": "stream",
     "text": [
      "General's Charm chicken?\n",
      "{'Ad': 'Add-on', 'Ap': 'Appetizer', 'C': 'Curry', 'D': 'Dessert', 'E': 'Entree', 'F': 'Fried Rice', 'K': 'Kid', 'N': 'Noodle', 'Sa': 'Salad', 'So': 'Soup', 'Sp': 'Special'} e\n"
     ]
    },
    {
     "name": "stdout",
     "output_type": "stream",
     "text": [
      "Correct!\n"
     ]
    },
    {
     "name": "stdin",
     "output_type": "stream",
     "text": [
      "Panang?\n",
      "{'Ad': 'Add-on', 'Ap': 'Appetizer', 'C': 'Curry', 'D': 'Dessert', 'E': 'Entree', 'F': 'Fried Rice', 'K': 'Kid', 'N': 'Noodle', 'Sa': 'Salad', 'So': 'Soup', 'Sp': 'Special'} c\n"
     ]
    },
    {
     "name": "stdout",
     "output_type": "stream",
     "text": [
      "Correct!\n"
     ]
    },
    {
     "name": "stdin",
     "output_type": "stream",
     "text": [
      "Kao Moo Dang Moo Krob?\n",
      "{'Ad': 'Add-on', 'Ap': 'Appetizer', 'C': 'Curry', 'D': 'Dessert', 'E': 'Entree', 'F': 'Fried Rice', 'K': 'Kid', 'N': 'Noodle', 'Sa': 'Salad', 'So': 'Soup', 'Sp': 'Special'} sp\n"
     ]
    },
    {
     "name": "stdout",
     "output_type": "stream",
     "text": [
      "Correct!\n"
     ]
    },
    {
     "name": "stdin",
     "output_type": "stream",
     "text": [
      "White rice?\n",
      "{'Ad': 'Add-on', 'Ap': 'Appetizer', 'C': 'Curry', 'D': 'Dessert', 'E': 'Entree', 'F': 'Fried Rice', 'K': 'Kid', 'N': 'Noodle', 'Sa': 'Salad', 'So': 'Soup', 'Sp': 'Special'} ad\n"
     ]
    },
    {
     "name": "stdout",
     "output_type": "stream",
     "text": [
      "Correct!\n"
     ]
    },
    {
     "name": "stdin",
     "output_type": "stream",
     "text": [
      "Pad Woon Sen?\n",
      "{'Ad': 'Add-on', 'Ap': 'Appetizer', 'C': 'Curry', 'D': 'Dessert', 'E': 'Entree', 'F': 'Fried Rice', 'K': 'Kid', 'N': 'Noodle', 'Sa': 'Salad', 'So': 'Soup', 'Sp': 'Special'} sa\n"
     ]
    },
    {
     "name": "stdout",
     "output_type": "stream",
     "text": [
      "\u001b[31mWrong!\u001b[0m The category of \u001b[33mPad Woon Sen\u001b[0m is \u001b[35mNoodle\u001b[0m\n"
     ]
    },
    {
     "name": "stdin",
     "output_type": "stream",
     "text": [
      "Kid's Chicken noodle?\n",
      "{'Ad': 'Add-on', 'Ap': 'Appetizer', 'C': 'Curry', 'D': 'Dessert', 'E': 'Entree', 'F': 'Fried Rice', 'K': 'Kid', 'N': 'Noodle', 'Sa': 'Salad', 'So': 'Soup', 'Sp': 'Special'} k\n"
     ]
    },
    {
     "name": "stdout",
     "output_type": "stream",
     "text": [
      "Correct!\n"
     ]
    },
    {
     "name": "stdin",
     "output_type": "stream",
     "text": [
      "Tiger Cried?\n",
      "{'Ad': 'Add-on', 'Ap': 'Appetizer', 'C': 'Curry', 'D': 'Dessert', 'E': 'Entree', 'F': 'Fried Rice', 'K': 'Kid', 'N': 'Noodle', 'Sa': 'Salad', 'So': 'Soup', 'Sp': 'Special'} sp\n"
     ]
    },
    {
     "name": "stdout",
     "output_type": "stream",
     "text": [
      "Correct!\n"
     ]
    },
    {
     "name": "stdin",
     "output_type": "stream",
     "text": [
      "Yum Woon Sen: Chicken or Pork?\n",
      "{'Ad': 'Add-on', 'Ap': 'Appetizer', 'C': 'Curry', 'D': 'Dessert', 'E': 'Entree', 'F': 'Fried Rice', 'K': 'Kid', 'N': 'Noodle', 'Sa': 'Salad', 'So': 'Soup', 'Sp': 'Special'} sa\n"
     ]
    },
    {
     "name": "stdout",
     "output_type": "stream",
     "text": [
      "Correct!\n"
     ]
    },
    {
     "name": "stdin",
     "output_type": "stream",
     "text": [
      "Side steam noodle?\n",
      "{'Ad': 'Add-on', 'Ap': 'Appetizer', 'C': 'Curry', 'D': 'Dessert', 'E': 'Entree', 'F': 'Fried Rice', 'K': 'Kid', 'N': 'Noodle', 'Sa': 'Salad', 'So': 'Soup', 'Sp': 'Special'} ad\n"
     ]
    },
    {
     "name": "stdout",
     "output_type": "stream",
     "text": [
      "Correct!\n"
     ]
    },
    {
     "name": "stdin",
     "output_type": "stream",
     "text": [
      "Steam veggies?\n",
      "{'Ad': 'Add-on', 'Ap': 'Appetizer', 'C': 'Curry', 'D': 'Dessert', 'E': 'Entree', 'F': 'Fried Rice', 'K': 'Kid', 'N': 'Noodle', 'Sa': 'Salad', 'So': 'Soup', 'Sp': 'Special'} ad\n"
     ]
    },
    {
     "name": "stdout",
     "output_type": "stream",
     "text": [
      "Correct!\n"
     ]
    },
    {
     "name": "stdin",
     "output_type": "stream",
     "text": [
      "Satay chicken?\n",
      "{'Ad': 'Add-on', 'Ap': 'Appetizer', 'C': 'Curry', 'D': 'Dessert', 'E': 'Entree', 'F': 'Fried Rice', 'K': 'Kid', 'N': 'Noodle', 'Sa': 'Salad', 'So': 'Soup', 'Sp': 'Special'} ap\n"
     ]
    },
    {
     "name": "stdout",
     "output_type": "stream",
     "text": [
      "Correct!\n"
     ]
    },
    {
     "name": "stdin",
     "output_type": "stream",
     "text": [
      "Pad Kee Mow?\n",
      "{'Ad': 'Add-on', 'Ap': 'Appetizer', 'C': 'Curry', 'D': 'Dessert', 'E': 'Entree', 'F': 'Fried Rice', 'K': 'Kid', 'N': 'Noodle', 'Sa': 'Salad', 'So': 'Soup', 'Sp': 'Special'} n\n"
     ]
    },
    {
     "name": "stdout",
     "output_type": "stream",
     "text": [
      "Correct!\n"
     ]
    },
    {
     "name": "stdin",
     "output_type": "stream",
     "text": [
      "Pork Skewers (Moo Ping)?\n",
      "{'Ad': 'Add-on', 'Ap': 'Appetizer', 'C': 'Curry', 'D': 'Dessert', 'E': 'Entree', 'F': 'Fried Rice', 'K': 'Kid', 'N': 'Noodle', 'Sa': 'Salad', 'So': 'Soup', 'Sp': 'Special'} ap\n"
     ]
    },
    {
     "name": "stdout",
     "output_type": "stream",
     "text": [
      "Correct!\n"
     ]
    },
    {
     "name": "stdin",
     "output_type": "stream",
     "text": [
      "Kid's Chicken fried rice?\n",
      "{'Ad': 'Add-on', 'Ap': 'Appetizer', 'C': 'Curry', 'D': 'Dessert', 'E': 'Entree', 'F': 'Fried Rice', 'K': 'Kid', 'N': 'Noodle', 'Sa': 'Salad', 'So': 'Soup', 'Sp': 'Special'} k\n"
     ]
    },
    {
     "name": "stdout",
     "output_type": "stream",
     "text": [
      "Correct!\n"
     ]
    },
    {
     "name": "stdin",
     "output_type": "stream",
     "text": [
      "Thai Fried Rice: Chicken, Pork, Veggies, or Tofu?\n",
      "{'Ad': 'Add-on', 'Ap': 'Appetizer', 'C': 'Curry', 'D': 'Dessert', 'E': 'Entree', 'F': 'Fried Rice', 'K': 'Kid', 'N': 'Noodle', 'Sa': 'Salad', 'So': 'Soup', 'Sp': 'Special'} f\n"
     ]
    },
    {
     "name": "stdout",
     "output_type": "stream",
     "text": [
      "Correct!\n"
     ]
    },
    {
     "name": "stdin",
     "output_type": "stream",
     "text": [
      "Lettuce Wrap?\n",
      "{'Ad': 'Add-on', 'Ap': 'Appetizer', 'C': 'Curry', 'D': 'Dessert', 'E': 'Entree', 'F': 'Fried Rice', 'K': 'Kid', 'N': 'Noodle', 'Sa': 'Salad', 'So': 'Soup', 'Sp': 'Special'} ap\n"
     ]
    },
    {
     "name": "stdout",
     "output_type": "stream",
     "text": [
      "\u001b[31mWrong!\u001b[0m The category of \u001b[33mLettuce Wrap\u001b[0m is \u001b[35mSalad\u001b[0m\n"
     ]
    },
    {
     "name": "stdin",
     "output_type": "stream",
     "text": [
      "Egg drop?\n",
      "{'Ad': 'Add-on', 'Ap': 'Appetizer', 'C': 'Curry', 'D': 'Dessert', 'E': 'Entree', 'F': 'Fried Rice', 'K': 'Kid', 'N': 'Noodle', 'Sa': 'Salad', 'So': 'Soup', 'Sp': 'Special'} so\n"
     ]
    },
    {
     "name": "stdout",
     "output_type": "stream",
     "text": [
      "Correct!\n"
     ]
    },
    {
     "name": "stdin",
     "output_type": "stream",
     "text": [
      "Nam Tok?\n",
      "{'Ad': 'Add-on', 'Ap': 'Appetizer', 'C': 'Curry', 'D': 'Dessert', 'E': 'Entree', 'F': 'Fried Rice', 'K': 'Kid', 'N': 'Noodle', 'Sa': 'Salad', 'So': 'Soup', 'Sp': 'Special'} sa\n"
     ]
    },
    {
     "name": "stdout",
     "output_type": "stream",
     "text": [
      "Correct!\n"
     ]
    },
    {
     "name": "stdin",
     "output_type": "stream",
     "text": [
      "To-go extra sauce?\n",
      "{'Ad': 'Add-on', 'Ap': 'Appetizer', 'C': 'Curry', 'D': 'Dessert', 'E': 'Entree', 'F': 'Fried Rice', 'K': 'Kid', 'N': 'Noodle', 'Sa': 'Salad', 'So': 'Soup', 'Sp': 'Special'} ad\n"
     ]
    },
    {
     "name": "stdout",
     "output_type": "stream",
     "text": [
      "Correct!\n"
     ]
    },
    {
     "name": "stdin",
     "output_type": "stream",
     "text": [
      "Rad Na Mee Krob?\n",
      "{'Ad': 'Add-on', 'Ap': 'Appetizer', 'C': 'Curry', 'D': 'Dessert', 'E': 'Entree', 'F': 'Fried Rice', 'K': 'Kid', 'N': 'Noodle', 'Sa': 'Salad', 'So': 'Soup', 'Sp': 'Special'} sp\n"
     ]
    },
    {
     "name": "stdout",
     "output_type": "stream",
     "text": [
      "\u001b[31mWrong!\u001b[0m The category of \u001b[33mRad Na Mee Krob\u001b[0m is \u001b[35mNoodle\u001b[0m\n"
     ]
    },
    {
     "name": "stdin",
     "output_type": "stream",
     "text": [
      "Spicy Cat Fish?\n",
      "{'Ad': 'Add-on', 'Ap': 'Appetizer', 'C': 'Curry', 'D': 'Dessert', 'E': 'Entree', 'F': 'Fried Rice', 'K': 'Kid', 'N': 'Noodle', 'Sa': 'Salad', 'So': 'Soup', 'Sp': 'Special'} sp\n"
     ]
    },
    {
     "name": "stdout",
     "output_type": "stream",
     "text": [
      "Correct!\n"
     ]
    },
    {
     "name": "stdin",
     "output_type": "stream",
     "text": [
      "Side stir fry veggies?\n",
      "{'Ad': 'Add-on', 'Ap': 'Appetizer', 'C': 'Curry', 'D': 'Dessert', 'E': 'Entree', 'F': 'Fried Rice', 'K': 'Kid', 'N': 'Noodle', 'Sa': 'Salad', 'So': 'Soup', 'Sp': 'Special'} ad\n"
     ]
    },
    {
     "name": "stdout",
     "output_type": "stream",
     "text": [
      "Correct!\n"
     ]
    },
    {
     "name": "stdin",
     "output_type": "stream",
     "text": [
      "Fried Calamari?\n",
      "{'Ad': 'Add-on', 'Ap': 'Appetizer', 'C': 'Curry', 'D': 'Dessert', 'E': 'Entree', 'F': 'Fried Rice', 'K': 'Kid', 'N': 'Noodle', 'Sa': 'Salad', 'So': 'Soup', 'Sp': 'Special'} ap\n"
     ]
    },
    {
     "name": "stdout",
     "output_type": "stream",
     "text": [
      "Correct!\n"
     ]
    },
    {
     "name": "stdin",
     "output_type": "stream",
     "text": [
      "Larb: Chicken or Pork?\n",
      "{'Ad': 'Add-on', 'Ap': 'Appetizer', 'C': 'Curry', 'D': 'Dessert', 'E': 'Entree', 'F': 'Fried Rice', 'K': 'Kid', 'N': 'Noodle', 'Sa': 'Salad', 'So': 'Soup', 'Sp': 'Special'} sa\n"
     ]
    },
    {
     "name": "stdout",
     "output_type": "stream",
     "text": [
      "Correct!\n"
     ]
    },
    {
     "name": "stdin",
     "output_type": "stream",
     "text": [
      "Fried Banana?\n",
      "{'Ad': 'Add-on', 'Ap': 'Appetizer', 'C': 'Curry', 'D': 'Dessert', 'E': 'Entree', 'F': 'Fried Rice', 'K': 'Kid', 'N': 'Noodle', 'Sa': 'Salad', 'So': 'Soup', 'Sp': 'Special'} d\n"
     ]
    },
    {
     "name": "stdout",
     "output_type": "stream",
     "text": [
      "Correct!\n"
     ]
    },
    {
     "name": "stdin",
     "output_type": "stream",
     "text": [
      "Brown rice?\n",
      "{'Ad': 'Add-on', 'Ap': 'Appetizer', 'C': 'Curry', 'D': 'Dessert', 'E': 'Entree', 'F': 'Fried Rice', 'K': 'Kid', 'N': 'Noodle', 'Sa': 'Salad', 'So': 'Soup', 'Sp': 'Special'} ad\n"
     ]
    },
    {
     "name": "stdout",
     "output_type": "stream",
     "text": [
      "Correct!\n"
     ]
    },
    {
     "name": "stdin",
     "output_type": "stream",
     "text": [
      "Orange Chicken?\n",
      "{'Ad': 'Add-on', 'Ap': 'Appetizer', 'C': 'Curry', 'D': 'Dessert', 'E': 'Entree', 'F': 'Fried Rice', 'K': 'Kid', 'N': 'Noodle', 'Sa': 'Salad', 'So': 'Soup', 'Sp': 'Special'} e\n"
     ]
    },
    {
     "name": "stdout",
     "output_type": "stream",
     "text": [
      "Correct!\n"
     ]
    },
    {
     "name": "stdin",
     "output_type": "stream",
     "text": [
      "Veggie egg rolls?\n",
      "{'Ad': 'Add-on', 'Ap': 'Appetizer', 'C': 'Curry', 'D': 'Dessert', 'E': 'Entree', 'F': 'Fried Rice', 'K': 'Kid', 'N': 'Noodle', 'Sa': 'Salad', 'So': 'Soup', 'Sp': 'Special'} ap\n"
     ]
    },
    {
     "name": "stdout",
     "output_type": "stream",
     "text": [
      "Correct!\n"
     ]
    },
    {
     "name": "stdin",
     "output_type": "stream",
     "text": [
      "Chinese broccoli with cripy pork belly?\n",
      "{'Ad': 'Add-on', 'Ap': 'Appetizer', 'C': 'Curry', 'D': 'Dessert', 'E': 'Entree', 'F': 'Fried Rice', 'K': 'Kid', 'N': 'Noodle', 'Sa': 'Salad', 'So': 'Soup', 'Sp': 'Special'} sp\n"
     ]
    },
    {
     "name": "stdout",
     "output_type": "stream",
     "text": [
      "Correct!\n"
     ]
    },
    {
     "name": "stdin",
     "output_type": "stream",
     "text": [
      "Pad See Eew?\n",
      "{'Ad': 'Add-on', 'Ap': 'Appetizer', 'C': 'Curry', 'D': 'Dessert', 'E': 'Entree', 'F': 'Fried Rice', 'K': 'Kid', 'N': 'Noodle', 'Sa': 'Salad', 'So': 'Soup', 'Sp': 'Special'} n\n"
     ]
    },
    {
     "name": "stdout",
     "output_type": "stream",
     "text": [
      "Correct!\n"
     ]
    },
    {
     "name": "stdin",
     "output_type": "stream",
     "text": [
      "Pla som rot?\n",
      "{'Ad': 'Add-on', 'Ap': 'Appetizer', 'C': 'Curry', 'D': 'Dessert', 'E': 'Entree', 'F': 'Fried Rice', 'K': 'Kid', 'N': 'Noodle', 'Sa': 'Salad', 'So': 'Soup', 'Sp': 'Special'} sp\n"
     ]
    },
    {
     "name": "stdout",
     "output_type": "stream",
     "text": [
      "Correct!\n"
     ]
    },
    {
     "name": "stdin",
     "output_type": "stream",
     "text": [
      "SS Chicken?\n",
      "{'Ad': 'Add-on', 'Ap': 'Appetizer', 'C': 'Curry', 'D': 'Dessert', 'E': 'Entree', 'F': 'Fried Rice', 'K': 'Kid', 'N': 'Noodle', 'Sa': 'Salad', 'So': 'Soup', 'Sp': 'Special'} e\n"
     ]
    },
    {
     "name": "stdout",
     "output_type": "stream",
     "text": [
      "Correct!\n"
     ]
    },
    {
     "name": "stdin",
     "output_type": "stream",
     "text": [
      "Thai Tea Creme Brulee?\n",
      "{'Ad': 'Add-on', 'Ap': 'Appetizer', 'C': 'Curry', 'D': 'Dessert', 'E': 'Entree', 'F': 'Fried Rice', 'K': 'Kid', 'N': 'Noodle', 'Sa': 'Salad', 'So': 'Soup', 'Sp': 'Special'} d\n"
     ]
    },
    {
     "name": "stdout",
     "output_type": "stream",
     "text": [
      "Correct!\n"
     ]
    },
    {
     "name": "stdin",
     "output_type": "stream",
     "text": [
      "Pla Lui Suan?\n",
      "{'Ad': 'Add-on', 'Ap': 'Appetizer', 'C': 'Curry', 'D': 'Dessert', 'E': 'Entree', 'F': 'Fried Rice', 'K': 'Kid', 'N': 'Noodle', 'Sa': 'Salad', 'So': 'Soup', 'Sp': 'Special'} sp\n"
     ]
    },
    {
     "name": "stdout",
     "output_type": "stream",
     "text": [
      "Correct!\n"
     ]
    },
    {
     "name": "stdin",
     "output_type": "stream",
     "text": [
      "Vegetarian FR (no egg): Tofu or Vegan proteins?\n",
      "{'Ad': 'Add-on', 'Ap': 'Appetizer', 'C': 'Curry', 'D': 'Dessert', 'E': 'Entree', 'F': 'Fried Rice', 'K': 'Kid', 'N': 'Noodle', 'Sa': 'Salad', 'So': 'Soup', 'Sp': 'Special'} f\n"
     ]
    },
    {
     "name": "stdout",
     "output_type": "stream",
     "text": [
      "Correct!\n"
     ]
    },
    {
     "name": "stdin",
     "output_type": "stream",
     "text": [
      "Massaman?\n",
      "{'Ad': 'Add-on', 'Ap': 'Appetizer', 'C': 'Curry', 'D': 'Dessert', 'E': 'Entree', 'F': 'Fried Rice', 'K': 'Kid', 'N': 'Noodle', 'Sa': 'Salad', 'So': 'Soup', 'Sp': 'Special'} c\n"
     ]
    },
    {
     "name": "stdout",
     "output_type": "stream",
     "text": [
      "Correct!\n"
     ]
    },
    {
     "name": "stdin",
     "output_type": "stream",
     "text": [
      "Beef Jerky?\n",
      "{'Ad': 'Add-on', 'Ap': 'Appetizer', 'C': 'Curry', 'D': 'Dessert', 'E': 'Entree', 'F': 'Fried Rice', 'K': 'Kid', 'N': 'Noodle', 'Sa': 'Salad', 'So': 'Soup', 'Sp': 'Special'} ap\n"
     ]
    },
    {
     "name": "stdout",
     "output_type": "stream",
     "text": [
      "Correct!\n"
     ]
    },
    {
     "name": "stdin",
     "output_type": "stream",
     "text": [
      "Crab Fried Rice?\n",
      "{'Ad': 'Add-on', 'Ap': 'Appetizer', 'C': 'Curry', 'D': 'Dessert', 'E': 'Entree', 'F': 'Fried Rice', 'K': 'Kid', 'N': 'Noodle', 'Sa': 'Salad', 'So': 'Soup', 'Sp': 'Special'} f\n"
     ]
    },
    {
     "name": "stdout",
     "output_type": "stream",
     "text": [
      "Correct!\n"
     ]
    },
    {
     "name": "stdin",
     "output_type": "stream",
     "text": [
      "Red?\n",
      "{'Ad': 'Add-on', 'Ap': 'Appetizer', 'C': 'Curry', 'D': 'Dessert', 'E': 'Entree', 'F': 'Fried Rice', 'K': 'Kid', 'N': 'Noodle', 'Sa': 'Salad', 'So': 'Soup', 'Sp': 'Special'} c\n"
     ]
    },
    {
     "name": "stdout",
     "output_type": "stream",
     "text": [
      "Correct!\n"
     ]
    },
    {
     "name": "stdin",
     "output_type": "stream",
     "text": [
      "Side stir fry noodle?\n",
      "{'Ad': 'Add-on', 'Ap': 'Appetizer', 'C': 'Curry', 'D': 'Dessert', 'E': 'Entree', 'F': 'Fried Rice', 'K': 'Kid', 'N': 'Noodle', 'Sa': 'Salad', 'So': 'Soup', 'Sp': 'Special'} ad\n"
     ]
    },
    {
     "name": "stdout",
     "output_type": "stream",
     "text": [
      "Correct!\n"
     ]
    },
    {
     "name": "stdin",
     "output_type": "stream",
     "text": [
      "Tofu or shrimp fresh rolls?\n",
      "{'Ad': 'Add-on', 'Ap': 'Appetizer', 'C': 'Curry', 'D': 'Dessert', 'E': 'Entree', 'F': 'Fried Rice', 'K': 'Kid', 'N': 'Noodle', 'Sa': 'Salad', 'So': 'Soup', 'Sp': 'Special'} ap\n"
     ]
    },
    {
     "name": "stdout",
     "output_type": "stream",
     "text": [
      "Correct!\n"
     ]
    },
    {
     "name": "stdin",
     "output_type": "stream",
     "text": [
      "Pineapple?\n",
      "{'Ad': 'Add-on', 'Ap': 'Appetizer', 'C': 'Curry', 'D': 'Dessert', 'E': 'Entree', 'F': 'Fried Rice', 'K': 'Kid', 'N': 'Noodle', 'Sa': 'Salad', 'So': 'Soup', 'Sp': 'Special'} c\n"
     ]
    },
    {
     "name": "stdout",
     "output_type": "stream",
     "text": [
      "Correct!\n"
     ]
    },
    {
     "name": "stdin",
     "output_type": "stream",
     "text": [
      "Tom Yum Chicken or Tofu?\n",
      "{'Ad': 'Add-on', 'Ap': 'Appetizer', 'C': 'Curry', 'D': 'Dessert', 'E': 'Entree', 'F': 'Fried Rice', 'K': 'Kid', 'N': 'Noodle', 'Sa': 'Salad', 'So': 'Soup', 'Sp': 'Special'} so\n"
     ]
    },
    {
     "name": "stdout",
     "output_type": "stream",
     "text": [
      "Correct!\n"
     ]
    },
    {
     "name": "stdin",
     "output_type": "stream",
     "text": [
      "Cashew Nut?\n",
      "{'Ad': 'Add-on', 'Ap': 'Appetizer', 'C': 'Curry', 'D': 'Dessert', 'E': 'Entree', 'F': 'Fried Rice', 'K': 'Kid', 'N': 'Noodle', 'Sa': 'Salad', 'So': 'Soup', 'Sp': 'Special'} e\n"
     ]
    },
    {
     "name": "stdout",
     "output_type": "stream",
     "text": [
      "Correct!\n"
     ]
    },
    {
     "name": "stdin",
     "output_type": "stream",
     "text": [
      "Mango & Sweet sticky rice?\n",
      "{'Ad': 'Add-on', 'Ap': 'Appetizer', 'C': 'Curry', 'D': 'Dessert', 'E': 'Entree', 'F': 'Fried Rice', 'K': 'Kid', 'N': 'Noodle', 'Sa': 'Salad', 'So': 'Soup', 'Sp': 'Special'} d\n"
     ]
    },
    {
     "name": "stdout",
     "output_type": "stream",
     "text": [
      "Correct!\n"
     ]
    },
    {
     "name": "stdin",
     "output_type": "stream",
     "text": [
      "Spicy Basil: Chicken, Pork, Veggies, or Tofu?\n",
      "{'Ad': 'Add-on', 'Ap': 'Appetizer', 'C': 'Curry', 'D': 'Dessert', 'E': 'Entree', 'F': 'Fried Rice', 'K': 'Kid', 'N': 'Noodle', 'Sa': 'Salad', 'So': 'Soup', 'Sp': 'Special'} e\n"
     ]
    },
    {
     "name": "stdout",
     "output_type": "stream",
     "text": [
      "\u001b[31mWrong!\u001b[0m The category of \u001b[33mSpicy Basil: Chicken, Pork, Veggies, or Tofu\u001b[0m is \u001b[35mFried Rice\u001b[0m\n"
     ]
    },
    {
     "name": "stdin",
     "output_type": "stream",
     "text": [
      "Fried Tofu?\n",
      "{'Ad': 'Add-on', 'Ap': 'Appetizer', 'C': 'Curry', 'D': 'Dessert', 'E': 'Entree', 'F': 'Fried Rice', 'K': 'Kid', 'N': 'Noodle', 'Sa': 'Salad', 'So': 'Soup', 'Sp': 'Special'} ap\n"
     ]
    },
    {
     "name": "stdout",
     "output_type": "stream",
     "text": [
      "Correct!\n"
     ]
    },
    {
     "name": "stdin",
     "output_type": "stream",
     "text": [
      "Peanut sauce chicken?\n",
      "{'Ad': 'Add-on', 'Ap': 'Appetizer', 'C': 'Curry', 'D': 'Dessert', 'E': 'Entree', 'F': 'Fried Rice', 'K': 'Kid', 'N': 'Noodle', 'Sa': 'Salad', 'So': 'Soup', 'Sp': 'Special'} e\n"
     ]
    },
    {
     "name": "stdout",
     "output_type": "stream",
     "text": [
      "Correct!\n"
     ]
    },
    {
     "name": "stdin",
     "output_type": "stream",
     "text": [
      "Pad Rah Hna?\n",
      "{'Ad': 'Add-on', 'Ap': 'Appetizer', 'C': 'Curry', 'D': 'Dessert', 'E': 'Entree', 'F': 'Fried Rice', 'K': 'Kid', 'N': 'Noodle', 'Sa': 'Salad', 'So': 'Soup', 'Sp': 'Special'} n\n"
     ]
    },
    {
     "name": "stdout",
     "output_type": "stream",
     "text": [
      "Correct!\n"
     ]
    },
    {
     "name": "stdin",
     "output_type": "stream",
     "text": [
      "Pad Prik Khing?\n",
      "{'Ad': 'Add-on', 'Ap': 'Appetizer', 'C': 'Curry', 'D': 'Dessert', 'E': 'Entree', 'F': 'Fried Rice', 'K': 'Kid', 'N': 'Noodle', 'Sa': 'Salad', 'So': 'Soup', 'Sp': 'Special'} n\n"
     ]
    },
    {
     "name": "stdout",
     "output_type": "stream",
     "text": [
      "\u001b[31mWrong!\u001b[0m The category of \u001b[33mPad Prik Khing\u001b[0m is \u001b[35mEntree\u001b[0m\n"
     ]
    },
    {
     "name": "stdin",
     "output_type": "stream",
     "text": [
      "Yellow?\n",
      "{'Ad': 'Add-on', 'Ap': 'Appetizer', 'C': 'Curry', 'D': 'Dessert', 'E': 'Entree', 'F': 'Fried Rice', 'K': 'Kid', 'N': 'Noodle', 'Sa': 'Salad', 'So': 'Soup', 'Sp': 'Special'} c\n"
     ]
    },
    {
     "name": "stdout",
     "output_type": "stream",
     "text": [
      "Correct!\n"
     ]
    },
    {
     "name": "stdin",
     "output_type": "stream",
     "text": [
      "Ba Mee Moo Dang?\n",
      "{'Ad': 'Add-on', 'Ap': 'Appetizer', 'C': 'Curry', 'D': 'Dessert', 'E': 'Entree', 'F': 'Fried Rice', 'K': 'Kid', 'N': 'Noodle', 'Sa': 'Salad', 'So': 'Soup', 'Sp': 'Special'} sp\n"
     ]
    },
    {
     "name": "stdout",
     "output_type": "stream",
     "text": [
      "Correct!\n"
     ]
    },
    {
     "name": "stdin",
     "output_type": "stream",
     "text": [
      "Pad Thai?\n",
      "{'Ad': 'Add-on', 'Ap': 'Appetizer', 'C': 'Curry', 'D': 'Dessert', 'E': 'Entree', 'F': 'Fried Rice', 'K': 'Kid', 'N': 'Noodle', 'Sa': 'Salad', 'So': 'Soup', 'Sp': 'Special'} n\n"
     ]
    },
    {
     "name": "stdout",
     "output_type": "stream",
     "text": [
      "Correct!\n",
      "You got 90.27777777777779%\n"
     ]
    }
   ],
   "source": [
    "# -*- coding: utf-8 -*-\n",
    "\"\"\"\n",
    "Created on Sun Sep 12 00:59:23 2021\n",
    "\n",
    "@author: TeoHangXanh\n",
    "\"\"\"\n",
    "import random\n",
    "import time\n",
    "import math\n",
    "from termcolor import colored\n",
    "\n",
    "food_dict = {\n",
    "    \"Appetizer\": [\n",
    "        \"Fried chicken wings\",\n",
    "        \"Pork Skewers (Moo Ping)\",\n",
    "        \"Pork Spareribs\",\n",
    "        \"Veggie egg rolls\",\n",
    "        \"Cheese rolls\",\n",
    "        \"Satay chicken\",\n",
    "        \"Tofu or shrimp fresh rolls\",\n",
    "        \"Beef Jerky\",\n",
    "        \"Fried Tofu\",\n",
    "        \"Edamame\",\n",
    "        \"Fried Calamari\",\n",
    "        \"Shrimp & Prok Dumplings\",\n",
    "    ],\n",
    "    \"Soup\": [\n",
    "        \"Tom Yum Chicken or Tofu\",\n",
    "        \"Tom Kha Chicken or Tofu\",\n",
    "        \"Egg drop\",\n",
    "    ],\n",
    "    \"Salad\": [\n",
    "        \"Larb: Chicken or Pork\",\n",
    "        \"Nam Tok\",\n",
    "        \"Som Tum\",\n",
    "        \"Yum Woon Sen: Chicken or Pork\",\n",
    "        \"Lettuce Wrap\",\n",
    "    ],\n",
    "    \"Fried Rice\": [\n",
    "        \"Vegetarian FR (no egg): Tofu or Vegan proteins\",\n",
    "        \"Thai Fried Rice: Chicken, Pork, Veggies, or Tofu\",\n",
    "        \"Spicy Basil: Chicken, Pork, Veggies, or Tofu\",\n",
    "        \"Pineaple Fried Rice: Chicken, Pork, Veggies, or Tofu\",\n",
    "        \"Crab Fried Rice\",\n",
    "    ],\n",
    "    \"Entree\": [\n",
    "        \"Broccoli Stir Fry\",\n",
    "        \"Basil Eggplant\",\n",
    "        \"Stir-fry Veggies\",\n",
    "        \"Pad Prik Khing\",\n",
    "        \"Orange Chicken\",\n",
    "        \"Thai Basil\",\n",
    "        \"SS Chicken\",\n",
    "        \"Cashew Nut\",\n",
    "        \"Peanut sauce chicken\",\n",
    "        \"General's Charm chicken\",\n",
    "    ],\n",
    "    \"Curry\": [\"Red\", \"Green\", \"Yellow\", \"Massaman\", \"Panang\", \"Pineapple\"],\n",
    "    \"Noodle\": [\n",
    "        \"Pad Thai\",\n",
    "        \"Pad See Eew\",\n",
    "        \"Pad Kee Mow\",\n",
    "        \"Pad Woon Sen\",\n",
    "        \"Pad Rah Hna\",\n",
    "        \"Rad Na Mee Krob\",\n",
    "    ],\n",
    "    \"Special\": [\n",
    "        \"Tiger Cried\",\n",
    "        \"Pla Lui Suan\",\n",
    "        \"Pla som rot\",\n",
    "        \"Pla Nueng Ma Naw\",\n",
    "        \"Spicy Cat Fish\",\n",
    "        \"Kao Moo Dang Moo Krob\",\n",
    "        \"Ba Mee Moo Dang\",\n",
    "        \"Curry Noodle\",\n",
    "        \"Chinese broccoli with cripy pork belly\",\n",
    "    ],\n",
    "    \"Add-on\": [\n",
    "        \"White rice\",\n",
    "        \"Sticky rice\",\n",
    "        \"Side steam noodle\",\n",
    "        \"Side stir fry noodle\",\n",
    "        \"Steam veggies\",\n",
    "        \"Side stir fry veggies\",\n",
    "        \"Side fried rice\",\n",
    "        \"Brown rice\",\n",
    "        \"To-go extra sauce\",\n",
    "    ],\n",
    "    \"Kid\": [\n",
    "        \"Kid's Chicken fried rice\",\n",
    "        \"Kid's Chicken noodle\",\n",
    "        \"Kid's SS chicken with white rice\",\n",
    "    ],\n",
    "    \"Dessert\": [\n",
    "        \"Mango & Sweet sticky rice\",\n",
    "        \"Fried Banana\",\n",
    "        \"Thai Tea Creme Brulee\",\n",
    "        \"Coconut / green tea / vanilla ice cream\",\n",
    "    ],\n",
    "}\n",
    "\n",
    "lookup = {\n",
    "    \"Ad\": \"Add-on\",\n",
    "    \"Ap\": \"Appetizer\",\n",
    "    \"C\": \"Curry\",\n",
    "    \"D\": \"Dessert\",\n",
    "    \"E\": \"Entree\",\n",
    "    \"F\": \"Fried Rice\",\n",
    "    \"K\": \"Kid\",\n",
    "    \"N\": \"Noodle\",\n",
    "    \"Sa\": \"Salad\",\n",
    "    \"So\": \"Soup\",\n",
    "    \"Sp\": \"Special\",\n",
    "}\n",
    "\n",
    "cat_and_name = []\n",
    "for category, names in food_dict.items():\n",
    "    for name in names:\n",
    "        cat_and_name.append((category, name))\n",
    "random.shuffle(cat_and_name)\n",
    "\n",
    "scores = maximum_scores = 0\n",
    "for food in cat_and_name:\n",
    "    start = time.time()\n",
    "    answer = input(f\"{food[1]}?\\n{lookup}\").strip().title()\n",
    "    while answer not in lookup.keys():\n",
    "        print(\"Please answer again\")\n",
    "        answer = input(f\"{food[1]}?\\n{lookup}\").strip().title()\n",
    "    if food[1] in food_dict[lookup[answer]]:\n",
    "        print(f\"Correct!\")\n",
    "        scores += 1\n",
    "    else:\n",
    "        print(\n",
    "            colored(\"Wrong!\", \"red\")\n",
    "            + \" The category of \"\n",
    "            + colored(food[1], \"yellow\")\n",
    "            + \" is \"\n",
    "            + colored(food[0], \"magenta\")\n",
    "        )\n",
    "    maximum_scores += 1\n",
    "print(f\"You got {scores / maximum_scores * 100}%\")"
   ]
  }
 ],
 "metadata": {
  "kernelspec": {
   "display_name": "Python 3 (ipykernel)",
   "language": "python",
   "name": "python3"
  },
  "language_info": {
   "codemirror_mode": {
    "name": "ipython",
    "version": 3
   },
   "file_extension": ".py",
   "mimetype": "text/x-python",
   "name": "python",
   "nbconvert_exporter": "python",
   "pygments_lexer": "ipython3",
   "version": "3.9.12"
  },
  "vscode": {
   "interpreter": {
    "hash": "536acbdfb2790301517951ac5b06e7ca0b0f120b5308b8f1e0393be071335d83"
   }
  }
 },
 "nbformat": 4,
 "nbformat_minor": 4
}
