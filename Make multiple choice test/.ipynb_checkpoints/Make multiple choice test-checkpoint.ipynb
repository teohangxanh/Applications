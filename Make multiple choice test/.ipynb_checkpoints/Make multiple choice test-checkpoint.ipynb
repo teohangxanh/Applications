{
 "cells": [
  {
   "cell_type": "code",
   "execution_count": 1,
   "id": "pleasant-manchester",
   "metadata": {},
   "outputs": [],
   "source": [
    "from dataclasses import dataclass\n",
    "import re\n",
    "\n",
    "\n",
    "@dataclass  # This decorator helps save time from initializing constructor\n",
    "class Flash_card:\n",
    "    \"\"\"This contains a question, its demonstration, possible choices, and correct answers out of the choices\"\"\"\n",
    "\n",
    "    question: str\n",
    "    choices: list\n",
    "    correct_choices: list\n",
    "    demo: str = None\n",
    "\n",
    "    # Shuffle all choices\n",
    "    def shuffle_choices(self):\n",
    "        np.random.shuffle(self.choices)"
   ]
  },
  {
   "cell_type": "code",
   "execution_count": 2,
   "id": "abroad-timing",
   "metadata": {},
   "outputs": [],
   "source": [
    "from termcolor import colored\n",
    "import numpy as np\n",
    "import roman\n",
    "\n",
    "\n",
    "class Folder:\n",
    "    \"\"\"This contains multiple flash cards\"\"\"\n",
    "\n",
    "    my_flash = []\n",
    "    correct: int = 0\n",
    "\n",
    "    def total_score(self):\n",
    "        \"\"\"This prints the percentage of correct answers\"\"\"\n",
    "        try:\n",
    "            print(f\"You get {self.correct * 100 / len(self.my_flash):.2f}%\")\n",
    "        except:\n",
    "            print(\"You have to have at least one question\")\n",
    "\n",
    "    def learn(self):\n",
    "        \"\"\"The user chooses correct answer(s) by typing a, b, c, etc. (lower case) and hit enter\"\"\"\n",
    "        # Shuffle order of questions\n",
    "        np.random.shuffle(self.my_flash)\n",
    "        for i, flash in enumerate(self.my_flash, 1):\n",
    "            print(colored(f\"{roman.toRoman(i)}. {flash.question[0].upper() + flash.question[1:]}\", \"blue\"))  # Print question\n",
    "            if flash.demo:\n",
    "                print(flash.demo.strip())  # Print question demonstration\n",
    "            # Shuffle choices\n",
    "            flash.shuffle_choices()\n",
    "            for index, c in enumerate(flash.choices):\n",
    "                print(\n",
    "                    colored(f\"{index + 1}. {c[0].upper() + c[1:]}\", \"magenta\")\n",
    "                )  # Print possible choices\n",
    "            answers = []\n",
    "            if len(flash.correct_choices) > 1:\n",
    "                answer = input(\n",
    "                    \"Choose multiple answers\"\n",
    "                )\n",
    "                while any(int(a) > len(flash.choices) for a in answer):\n",
    "                    answer = input('You have an invalid answer, please choose again')\n",
    "                for a in list(answer):\n",
    "                    answers.append(flash.choices[int(a) - 1])\n",
    "            else:\n",
    "                ans = int(input(\"Choose one correct answer\"))\n",
    "                while ans > len(flash.choices):\n",
    "                    ans = int(input('You have an invalid answer, please choose again'))\n",
    "                answers.append(flash.choices[ans - 1])\n",
    "            if sorted(answers) == sorted(flash.correct_choices):  # Correct answer(s)\n",
    "                print(\"Correct!\")\n",
    "                self.correct += 1\n",
    "            else:  # Incorrect answer(s)\n",
    "                print(colored(f\"Wrong! Correct choice should be: \", \"yellow\"), end=\"\")\n",
    "                print(colored(\"\\n\".join(flash.correct_choices), \"red\"))\n",
    "            print()\n",
    "        self.total_score()"
   ]
  },
  {
   "cell_type": "code",
   "execution_count": 3,
   "id": "sticky-honolulu",
   "metadata": {},
   "outputs": [],
   "source": [
    "def read_a_file(file_path: str, general_choice_pattern: str, correct_choice_pattern: str) -> Folder:\n",
    "    \"\"\"This reads a text file and returns a Folder instance\"\"\"\n",
    "    doc = Folder()\n",
    "    with open(file_path, \"r\", encoding='utf8') as f:\n",
    "        q, demo, correct_choices, choices = \"\", \"\", [], []\n",
    "        for line in f:\n",
    "            correct = re.match(correct_choice_pattern, line)\n",
    "            regular = re.match(general_choice_pattern, line)\n",
    "            # print(f'line: {line}')\n",
    "            # Read multiple-lined questions\n",
    "            if not regular:\n",
    "                q += line\n",
    "                # print(f'not regular, q: {q}')\n",
    "            else:\n",
    "                # print(f'regular, neat q: {q}')\n",
    "                if correct:  # Get correct choices\n",
    "                    correct_choice = line[correct.end():].strip()\n",
    "                    correct_choices.append(correct_choice)\n",
    "                    # Any way, the regular choice is added\n",
    "                    choices.append(correct_choice)\n",
    "                    # print(f'correct_choice: {correct_choice}')\n",
    "                else:  # Get incorrect choices\n",
    "                    regular_choice = line[regular.end():].strip()\n",
    "                    # print(f'incorrect_choice: {regular_choice}')\n",
    "                    choices.append(regular_choice)\n",
    "            if line in ['\\n', '\\r\\n']:\n",
    "                # Extract the question\n",
    "                # print(f'q before split: {q}')\n",
    "                q = q.split(' ', 1)[-1]\n",
    "                # print(f'q after split: {q}')\n",
    "                q = q.replace('\\n', '').strip()\n",
    "                # print(f'q after replace: {q}')\n",
    "                a_flash_card = Flash_card(\n",
    "                    question=q,\n",
    "                    choices=choices,\n",
    "                    correct_choices=correct_choices,\n",
    "                )\n",
    "                if a_flash_card not in doc.my_flash:\n",
    "                    doc.my_flash.append(a_flash_card)\n",
    "                # print(f'question: {q}')\n",
    "                # print(f'answers: {choices}')\n",
    "                # print(f'correct answer: {correct_choices}')\n",
    "                # print()\n",
    "                q, demo, correct_choices, choices = \"\", \"\", [], []\n",
    "    return doc"
   ]
  },
  {
   "cell_type": "code",
   "execution_count": 4,
   "id": "suspended-philip",
   "metadata": {},
   "outputs": [],
   "source": [
    "def create_a_nicer_file(doc: Folder, filename: str):\n",
    "    \"\"\"\n",
    "    This is to create a nicer Q&A file name from doc a Folder instance\n",
    "    \"\"\"\n",
    "    with open(str(filename), \"w\", encoding='utf8') as f:\n",
    "        for i, flash in enumerate(doc.my_flash, 1):\n",
    "            f.write(f\"####Q{i}. {flash.question}\\n\")  # Write question\n",
    "            if flash.demo:  # Write demo if it exists\n",
    "                f.write(flash.demo)\n",
    "            for choice in flash.choices:\n",
    "                if choice in flash.correct_choices:\n",
    "                    f.write(f\"- [x] {choice}\\n\")\n",
    "                else:\n",
    "                    f.write(f\"- [ ] {choice}\\n\")\n",
    "            f.write(\"\\n\")"
   ]
  },
  {
   "cell_type": "code",
   "execution_count": 5,
   "id": "impossible-travel",
   "metadata": {
    "tags": []
   },
   "outputs": [
    {
     "name": "stdout",
     "output_type": "stream",
     "text": [
      "\u001b[34mI. Reward prediction error is\u001b[0m\n",
      "\u001b[35m1. The expected reward value - the received reward value\u001b[0m\n",
      "\u001b[35m2. The total future expected reward minus the total future actual reward (with temporal discounting)\u001b[0m\n",
      "\u001b[35m3. The received reward value - the expected reward value\u001b[0m\n",
      "\u001b[35m4. The total future actual reward minus the total future expected reward (with temporal discounting)\u001b[0m\n"
     ]
    },
    {
     "name": "stdin",
     "output_type": "stream",
     "text": [
      "Choose one correct answer 3\n"
     ]
    },
    {
     "name": "stdout",
     "output_type": "stream",
     "text": [
      "Correct!\n",
      "\n",
      "\u001b[34mII. If you are teams #2 and #3 in a competition and you want to merge your teams to beat #1, you will more likely be using bagging rather than boosting to win.\u001b[0m\n",
      "\u001b[35m1. False\u001b[0m\n",
      "\u001b[35m2. True\u001b[0m\n"
     ]
    },
    {
     "name": "stdin",
     "output_type": "stream",
     "text": [
      "Choose one correct answer 1\n"
     ]
    },
    {
     "name": "stdout",
     "output_type": "stream",
     "text": [
      "Correct!\n",
      "\n",
      "\u001b[34mIII. Backpropagation is the ability of deep learning neural networks, like google's Deep Dream, to propagate signals from higher level neurons down to low-level neurons - allowing us in some cases to see the \"hallucinated\" images.\u001b[0m\n",
      "\u001b[35m1. False\u001b[0m\n",
      "\u001b[35m2. True\u001b[0m\n"
     ]
    },
    {
     "name": "stdin",
     "output_type": "stream",
     "text": [
      "Choose one correct answer 1\n"
     ]
    },
    {
     "name": "stdout",
     "output_type": "stream",
     "text": [
      "Correct!\n",
      "\n",
      "\u001b[34mIV. Check all of the following that are associated with \"model-free\" reinforcement learning as opposed to model-based learning?\u001b[0m\n",
      "\u001b[35m1. It takes advantage of direct knowledge of probabilities between states to optimize learning\u001b[0m\n",
      "\u001b[35m2. This technique uses prediction error as the primary means of updating policy decisions\u001b[0m\n",
      "\u001b[35m3. It is more associated with valuation of repetitive events than new, novel environments (e.g. habit learning)\u001b[0m\n",
      "\u001b[35m4. Inferring state and action value functions iteratively based on repeated rewards and punishments\u001b[0m\n"
     ]
    },
    {
     "name": "stdin",
     "output_type": "stream",
     "text": [
      "Choose multiple answers 341\n"
     ]
    },
    {
     "name": "stdout",
     "output_type": "stream",
     "text": [
      "\u001b[33mWrong! Correct choice should be: \u001b[0m\u001b[31mIt is more associated with valuation of repetitive events than new, novel environments (e.g. habit learning)\n",
      "Inferring state and action value functions iteratively based on repeated rewards and punishments\n",
      "This technique uses prediction error as the primary means of updating policy decisions\u001b[0m\n",
      "\n",
      "\u001b[34mV. It is important to not remove features that are statistically independent of target values because they might be correlated to the target, and thus useful for prediction.\u001b[0m\n",
      "\u001b[35m1. True\u001b[0m\n",
      "\u001b[35m2. False\u001b[0m\n"
     ]
    },
    {
     "name": "stdin",
     "output_type": "stream",
     "text": [
      "Choose one correct answer 2\n"
     ]
    },
    {
     "name": "stdout",
     "output_type": "stream",
     "text": [
      "Correct!\n",
      "\n",
      "\u001b[34mVI. When you want to know how well a product will work on a new person without any individual-specific training, it is better to use K-fold cross-validation than subject-wise cross-validation, because K-fold cross-validation may have an individual's data in both the training and test sets, which is what you want in that case.\u001b[0m\n",
      "\u001b[35m1. False\u001b[0m\n",
      "\u001b[35m2. True\u001b[0m\n"
     ]
    },
    {
     "name": "stdin",
     "output_type": "stream",
     "text": [
      "Choose one correct answer 1\n"
     ]
    },
    {
     "name": "stdout",
     "output_type": "stream",
     "text": [
      "Correct!\n",
      "\n",
      "\u001b[34mVII. Check the scenario where density-based clustering algorithms like DBSCAN are expected to outperform K-means\u001b[0m\n",
      "\u001b[35m1. When the clusters would share the same center-point, such as two concentric circles\u001b[0m\n",
      "\u001b[35m2. When we know exactly how many clusters to expect\u001b[0m\n",
      "\u001b[35m3. When the clusters are well represented by spheres\u001b[0m\n"
     ]
    },
    {
     "name": "stdin",
     "output_type": "stream",
     "text": [
      "Choose one correct answer 1\n"
     ]
    },
    {
     "name": "stdout",
     "output_type": "stream",
     "text": [
      "Correct!\n",
      "\n",
      "\u001b[34mVIII. Feature engineering differs from feature selection by the fact that feature engineering uses systematic tools while feature selection is made on an ad-hoc arbitrary basis.\u001b[0m\n",
      "\u001b[35m1. False\u001b[0m\n",
      "\u001b[35m2. True\u001b[0m\n"
     ]
    },
    {
     "name": "stdin",
     "output_type": "stream",
     "text": [
      "Choose one correct answer 1\n"
     ]
    },
    {
     "name": "stdout",
     "output_type": "stream",
     "text": [
      "Correct!\n",
      "\n",
      "\u001b[34mIX. Here is an analogy:\"Rose\" is to \"Flower\" as \"Porsche\" is to \"Automobile\", because the first word is a type of the second word.\"North\" is to \"South\" as \"Black\" is to \"White\" because second word is the opposite of the first word.and so on...The following is analogy can be said for four important concepts in machine learning. Fill in the blank. Classification is to regression in supervised learning as _____________ is to dimensionality reduction in unsupervised learning. Or more succinctly, classification is to regression as ___________________ is to dimensionality reduction\u001b[0m\n",
      "\u001b[35m1. Reinforcement learning\u001b[0m\n",
      "\u001b[35m2. Clustering\u001b[0m\n",
      "\u001b[35m3. PCA\u001b[0m\n",
      "\u001b[35m4. Factor Analysis\u001b[0m\n"
     ]
    },
    {
     "name": "stdin",
     "output_type": "stream",
     "text": [
      "Choose one correct answer 2\n"
     ]
    },
    {
     "name": "stdout",
     "output_type": "stream",
     "text": [
      "Correct!\n",
      "\n",
      "\u001b[34mX. Given the same data set, K-means always converges to the same solution, regardless of the starting point\u001b[0m\n",
      "\u001b[35m1. True\u001b[0m\n",
      "\u001b[35m2. False\u001b[0m\n"
     ]
    },
    {
     "name": "stdin",
     "output_type": "stream",
     "text": [
      "Choose one correct answer 2\n"
     ]
    },
    {
     "name": "stdout",
     "output_type": "stream",
     "text": [
      "Correct!\n",
      "\n",
      "\u001b[34mXI. In Q learning, you are updating the action value function, but there are two parameters which control the manner in which this updating occurs\u001b[0m\n",
      "\u001b[35m1. Regularization strength (lamda)\u001b[0m\n",
      "\u001b[35m2. Learning rate (alpha)\u001b[0m\n",
      "\u001b[35m3. Maximum estimation error (epsilon)\u001b[0m\n",
      "\u001b[35m4. Temporal discounting (gamma)\u001b[0m\n"
     ]
    },
    {
     "name": "stdin",
     "output_type": "stream",
     "text": [
      "Choose multiple answers 12\n"
     ]
    },
    {
     "name": "stdout",
     "output_type": "stream",
     "text": [
      "\u001b[33mWrong! Correct choice should be: \u001b[0m\u001b[31mTemporal discounting (gamma)\n",
      "Learning rate (alpha)\u001b[0m\n",
      "\n",
      "\u001b[34mXII. Although metrics are available to measure the quality of clustering when we know the true classes, there are no metrics to measure the quality of unsupervised clustering when true classes are not known\u001b[0m\n",
      "\u001b[35m1. False\u001b[0m\n",
      "\u001b[35m2. True\u001b[0m\n"
     ]
    },
    {
     "name": "stdin",
     "output_type": "stream",
     "text": [
      "Choose one correct answer 1\n"
     ]
    },
    {
     "name": "stdout",
     "output_type": "stream",
     "text": [
      "Correct!\n",
      "\n",
      "\u001b[34mXIII. In a given binary classification problem, Out of all the positive samples in the test set, the proportion of those which are correctly identified as positive by the classifier is called...\u001b[0m\n",
      "\u001b[35m1. F1 Score\u001b[0m\n",
      "\u001b[35m2. Precision\u001b[0m\n",
      "\u001b[35m3. Specificity\u001b[0m\n",
      "\u001b[35m4. Recall\u001b[0m\n"
     ]
    },
    {
     "name": "stdin",
     "output_type": "stream",
     "text": [
      "Choose one correct answer 4\n"
     ]
    },
    {
     "name": "stdout",
     "output_type": "stream",
     "text": [
      "Correct!\n",
      "\n",
      "\u001b[34mXIV. After determining the best k value for a k nearest neighbors prediction, how might the best fitting k value change if we changed the training set by incorrectly labeling 10% of all examples?\u001b[0m\n",
      "\u001b[35m1. Best k value would on average be lower\u001b[0m\n",
      "\u001b[35m2. Best k value would on average be higher\u001b[0m\n",
      "\u001b[35m3. Mathematically, the best fitting k value would stay the same regardless of adding noise\u001b[0m\n"
     ]
    },
    {
     "name": "stdin",
     "output_type": "stream",
     "text": [
      "Choose one correct answer 2\n"
     ]
    },
    {
     "name": "stdout",
     "output_type": "stream",
     "text": [
      "Correct!\n",
      "\n",
      "\u001b[34mXV. K-fold cross-validation will lead to lower accuracies than expected with the full training set because only (K-1)/K % of the data is being used for training (e.g. 4/5ths for K=5). The way to improve this is by increasing K.But what is a problem with increasing K?\u001b[0m\n",
      "\u001b[35m1. K models have to be trained which takes more time as K increases\u001b[0m\n",
      "\u001b[35m2. The number of samples in the data set may not be perfectly divisible by K\u001b[0m\n",
      "\u001b[35m3. The separated test set is getting small and may bias results of the cross-validation\u001b[0m\n"
     ]
    },
    {
     "name": "stdin",
     "output_type": "stream",
     "text": [
      "Choose one correct answer 1\n"
     ]
    },
    {
     "name": "stdout",
     "output_type": "stream",
     "text": [
      "Correct!\n",
      "\n",
      "\u001b[34mXVI. Two child nodes of the same parent are independent until the parent node is observed, which then introduces a dependency.\u001b[0m\n",
      "\u001b[35m1. True\u001b[0m\n",
      "\u001b[35m2. False\u001b[0m\n"
     ]
    },
    {
     "name": "stdin",
     "output_type": "stream",
     "text": [
      "Choose one correct answer 2\n"
     ]
    },
    {
     "name": "stdout",
     "output_type": "stream",
     "text": [
      "Correct!\n",
      "\n",
      "\u001b[34mXVII. The Q in Q-learning for reinforcement learning is best described as\u001b[0m\n",
      "\u001b[35m1. The reward signal from the environment\u001b[0m\n",
      "\u001b[35m2. The reward prediction error quotient\u001b[0m\n",
      "\u001b[35m3. The discount factor\u001b[0m\n",
      "\u001b[35m4. The sum of future expected rewards\u001b[0m\n"
     ]
    },
    {
     "name": "stdin",
     "output_type": "stream",
     "text": [
      "Choose one correct answer 4\n"
     ]
    },
    {
     "name": "stdout",
     "output_type": "stream",
     "text": [
      "Correct!\n",
      "\n",
      "\u001b[34mXVIII. K-means is a supervised learning technique that can be used for classification while K-nearest neighbors is an unsupervised learning technique which returns classes of the samples based solely on similarity between samples\u001b[0m\n",
      "\u001b[35m1. False\u001b[0m\n",
      "\u001b[35m2. True\u001b[0m\n"
     ]
    },
    {
     "name": "stdin",
     "output_type": "stream",
     "text": [
      "Choose one correct answer 1\n"
     ]
    },
    {
     "name": "stdout",
     "output_type": "stream",
     "text": [
      "Correct!\n",
      "\n",
      "\u001b[34mXIX. Two nodes that share the same child node are independent until the child node is observed, which then introduces a dependency.\u001b[0m\n",
      "\u001b[35m1. False\u001b[0m\n",
      "\u001b[35m2. True\u001b[0m\n"
     ]
    },
    {
     "name": "stdin",
     "output_type": "stream",
     "text": [
      "Choose one correct answer 2\n"
     ]
    },
    {
     "name": "stdout",
     "output_type": "stream",
     "text": [
      "Correct!\n",
      "\n",
      "\u001b[34mXX. A random forest classifier uses boosting on a set of decision trees to increase performance\u001b[0m\n",
      "\u001b[35m1. False\u001b[0m\n",
      "\u001b[35m2. True\u001b[0m\n"
     ]
    },
    {
     "name": "stdin",
     "output_type": "stream",
     "text": [
      "Choose one correct answer 1\n"
     ]
    },
    {
     "name": "stdout",
     "output_type": "stream",
     "text": [
      "Correct!\n",
      "\n",
      "\u001b[34mXXI. Specificity is...\u001b[0m\n",
      "\u001b[35m1. Precision for the negative case\u001b[0m\n",
      "\u001b[35m2. Recall for the negative case\u001b[0m\n",
      "\u001b[35m3. Recall for the positive case\u001b[0m\n",
      "\u001b[35m4. Precision for the positive case\u001b[0m\n"
     ]
    },
    {
     "name": "stdin",
     "output_type": "stream",
     "text": [
      "Choose one correct answer 2\n"
     ]
    },
    {
     "name": "stdout",
     "output_type": "stream",
     "text": [
      "Correct!\n",
      "\n",
      "\u001b[34mXXII. In a classification problem using high dimensional data (e.g. greater than 10 features) a PCA dimensionality reduction to two PCA components was performed to visually observe how separable two classes are on a scatter plot with X as PCA component 1 and Y as PCA component 2 for each data point. If the classes are not visibly separate in the 2D plot, what does that mean for a classifier trained on all the features?\u001b[0m\n",
      "\u001b[35m1. They cannot be distinguished by a classifier\u001b[0m\n",
      "\u001b[35m2. They may be separable with more features, it is inconclusive\u001b[0m\n",
      "\u001b[35m3. Overlaps in the PCA plot indicate the classes are separable when all features are used\u001b[0m\n"
     ]
    },
    {
     "name": "stdin",
     "output_type": "stream",
     "text": [
      "Choose one correct answer 2\n"
     ]
    },
    {
     "name": "stdout",
     "output_type": "stream",
     "text": [
      "Correct!\n",
      "\n",
      "\u001b[34mXXIII. What is the purpose of regularization in linear regression?\u001b[0m\n",
      "\u001b[35m1. To diminish the contribution of irrelevant features to the resulting model, effectively performing automated feature selection during learning\u001b[0m\n",
      "\u001b[35m2. To lasso the ridge with an elastic net\u001b[0m\n",
      "\u001b[35m3. To improve prediction accuracy on a future test set better than ordinary linear regression\u001b[0m\n",
      "\u001b[35m4. To decrease the coefficient values for irrelevant terms in the regression model\u001b[0m\n"
     ]
    },
    {
     "name": "stdin",
     "output_type": "stream",
     "text": [
      "Choose multiple answers 134\n"
     ]
    },
    {
     "name": "stdout",
     "output_type": "stream",
     "text": [
      "Correct!\n",
      "\n",
      "\u001b[34mXXIV. Accuracy is\u001b[0m\n",
      "\u001b[35m1. The arithmetic mean of precision and recall\u001b[0m\n",
      "\u001b[35m2. The average recall across classes if the number of items in each class is the same\u001b[0m\n",
      "\u001b[35m3. The geometric mean of precision and recall\u001b[0m\n"
     ]
    },
    {
     "name": "stdin",
     "output_type": "stream",
     "text": [
      "Choose one correct answer 2\n"
     ]
    },
    {
     "name": "stdout",
     "output_type": "stream",
     "text": [
      "Correct!\n",
      "\n",
      "\u001b[34mXXV. An important aspect in formulating a problem as a Markov process is that the future is conditionally independent of the past giving the current state\u001b[0m\n",
      "\u001b[35m1. True\u001b[0m\n",
      "\u001b[35m2. False\u001b[0m\n"
     ]
    },
    {
     "name": "stdin",
     "output_type": "stream",
     "text": [
      "Choose one correct answer 1\n"
     ]
    },
    {
     "name": "stdout",
     "output_type": "stream",
     "text": [
      "Correct!\n",
      "\n",
      "\u001b[34mXXVI. When you are not sure if your state-action value function is correct, you should always pick the state-action pair of maximum value\u001b[0m\n",
      "\u001b[35m1. True\u001b[0m\n",
      "\u001b[35m2. False\u001b[0m\n"
     ]
    },
    {
     "name": "stdin",
     "output_type": "stream",
     "text": [
      "Choose one correct answer 2\n"
     ]
    },
    {
     "name": "stdout",
     "output_type": "stream",
     "text": [
      "Correct!\n",
      "\n",
      "\u001b[34mXXVII. Pick the two data formats for use in clustering\u001b[0m\n",
      "\u001b[35m1. A 'samples x features' matrix, standard in machine learning but without a chosen predictor\u001b[0m\n",
      "\u001b[35m2. A 'features x features' sized correlation matrix\u001b[0m\n",
      "\u001b[35m3. A similarity matrix of size 'samples x samples'\u001b[0m\n"
     ]
    },
    {
     "name": "stdin",
     "output_type": "stream",
     "text": [
      "Choose multiple answers 13\n"
     ]
    },
    {
     "name": "stdout",
     "output_type": "stream",
     "text": [
      "Correct!\n",
      "\n",
      "\u001b[34mXXVIII. Select all the transformations of features that have the potential to improve prediction accuracy for most ML algorithms (note: simple linear combinations don't often help since most models do that automatically)\u001b[0m\n",
      "\u001b[35m1. Cross products of features\u001b[0m\n",
      "\u001b[35m2. Differences of features\u001b[0m\n",
      "\u001b[35m3. Logarithm transformation\u001b[0m\n",
      "\u001b[35m4. Sums of features\u001b[0m\n",
      "\u001b[35m5. Absolute value\u001b[0m\n",
      "\u001b[35m6. Squares (or cubes...)\u001b[0m\n"
     ]
    },
    {
     "name": "stdin",
     "output_type": "stream",
     "text": [
      "Choose multiple answers 136\n"
     ]
    },
    {
     "name": "stdout",
     "output_type": "stream",
     "text": [
      "Correct!\n",
      "\n",
      "\u001b[34mXXIX. Check all the components of a basic reinforcement learning model\u001b[0m\n",
      "\u001b[35m1. Rules that determine the immediate reward of certain transitions\u001b[0m\n",
      "\u001b[35m2. Rules of transitions between states\u001b[0m\n",
      "\u001b[35m3. A set of states of the environment\u001b[0m\n",
      "\u001b[35m4. A set of actions the organism can take\u001b[0m\n",
      "\u001b[35m5. Rules that describe what the organism can observe\u001b[0m\n"
     ]
    },
    {
     "name": "stdin",
     "output_type": "stream",
     "text": [
      "Choose multiple answers 12345\n"
     ]
    },
    {
     "name": "stdout",
     "output_type": "stream",
     "text": [
      "Correct!\n",
      "\n",
      "\u001b[34mXXX. When cross-validation is performed in the validation set, the score of the best fitted model hyperparameters in that set is on average lower than the the score of that best fitted model on a separate test set.\u001b[0m\n",
      "\u001b[35m1. False\u001b[0m\n",
      "\u001b[35m2. True\u001b[0m\n"
     ]
    },
    {
     "name": "stdin",
     "output_type": "stream",
     "text": [
      "Choose one correct answer 1\n"
     ]
    },
    {
     "name": "stdout",
     "output_type": "stream",
     "text": [
      "Correct!\n",
      "\n",
      "\u001b[34mXXXI. Select all examples of semi-supervised learning (as opposed to pure supervised or unsupervised learning examples)\u001b[0m\n",
      "\u001b[35m1. Collecting constant GPS data, automatically clustering repeated locations, then having a personal label those clusters as “home” or “work” with the goal of having the setup detect whenever the wearer is at home or at work.\u001b[0m\n",
      "\u001b[35m2. Your learning of music genres, especially your ability to ask questions about a category of music that you notice as particularly distinct.\u001b[0m\n",
      "\u001b[35m3. Making stock predictions for a high-frequency trading company\u001b[0m\n",
      "\u001b[35m4. Determining a taxonomy (tree-like classification) for animals based solely on their features\u001b[0m\n"
     ]
    },
    {
     "name": "stdin",
     "output_type": "stream",
     "text": [
      "Choose multiple answers 12\n"
     ]
    },
    {
     "name": "stdout",
     "output_type": "stream",
     "text": [
      "Correct!\n",
      "\n",
      "\u001b[34mXXXII. If I want to test my voice recognition software to see how well it will works on a new person it has not yet been trained for, what type of cross-validation would give me the best sense of accuracy?\u001b[0m\n",
      "\u001b[35m1. Stratified K-fold cross-validation\u001b[0m\n",
      "\u001b[35m2. K fold cross-validation\u001b[0m\n",
      "\u001b[35m3. Leave one out cross-validation\u001b[0m\n",
      "\u001b[35m4. Subject-wise cross-validation\u001b[0m\n"
     ]
    },
    {
     "name": "stdin",
     "output_type": "stream",
     "text": [
      "Choose one correct answer 4\n"
     ]
    },
    {
     "name": "stdout",
     "output_type": "stream",
     "text": [
      "Correct!\n",
      "\n",
      "\u001b[34mXXXIII. Choose correct answers\u001b[0m\n",
      "\u001b[35m1. Subject-wise cross-validation: When you use the data from N-1 people to train your classifier, and you test it on the Nth person. Repeat the process by changing who is in the test set appropriately.\u001b[0m\n",
      "\u001b[35m2. Leave one out cross-validation: When you use the data from N-1 people to train your classifier, and you test it on the Nth person. Repeat the process by changing who is in the test set appropriately.\u001b[0m\n",
      "\u001b[35m3. Subject-wise cross-validation: Same as K-fold cross-validation where K = the size of the data set\u001b[0m\n",
      "\u001b[35m4. Leave one out cross-validation: Same as K-fold cross-validation where K = the size of the data set\u001b[0m\n"
     ]
    },
    {
     "name": "stdin",
     "output_type": "stream",
     "text": [
      "Choose multiple answers 14\n"
     ]
    },
    {
     "name": "stdout",
     "output_type": "stream",
     "text": [
      "Correct!\n",
      "\n",
      "\u001b[34mXXXIV. In Gaussian Naive Bayes, select all the parameters that have to be learned from the data to create a predictive model\u001b[0m\n",
      "\u001b[35m1. The mean and standard deviation for each feature for each class\u001b[0m\n",
      "\u001b[35m2. The mean and standard deviation for each feature, combining all classes together\u001b[0m\n",
      "\u001b[35m3. The prior probability of each feature value's likelihood\u001b[0m\n",
      "\u001b[35m4. The proportion of training data in each class\u001b[0m\n"
     ]
    },
    {
     "name": "stdin",
     "output_type": "stream",
     "text": [
      "Choose multiple answers 14\n"
     ]
    },
    {
     "name": "stdout",
     "output_type": "stream",
     "text": [
      "Correct!\n",
      "\n",
      "\u001b[34mXXXV. If a potential feature does not necessarily correlate with a target, it should not necessarily be removed because\u001b[0m\n",
      "\u001b[35m1. Correlation does not imply causation\u001b[0m\n",
      "\u001b[35m2. It may still have a dependent relationship with the target\u001b[0m\n",
      "\u001b[35m3. The best fitting line in a scatter plot with the feature and target may have a non-zero slope for a line in linear regression\u001b[0m\n",
      "\u001b[35m4. Lack of correlation does not imply lack of causation\u001b[0m\n"
     ]
    },
    {
     "name": "stdin",
     "output_type": "stream",
     "text": [
      "Choose one correct answer 2\n"
     ]
    },
    {
     "name": "stdout",
     "output_type": "stream",
     "text": [
      "Correct!\n",
      "\n",
      "\u001b[34mXXXVI. Select all scenarios that are examples of supervised learning\u001b[0m\n",
      "\u001b[35m1. Using the nucleotide sequences on a region of non-coding DNA shared among species to estimate a phylogenetic tree.\u001b[0m\n",
      "\u001b[35m2. An infant, unable to speak, but forming concepts of ‘r’ or ‘l’ sounds based on the grouping of similar sounds over time.\u001b[0m\n",
      "\u001b[35m3. Netflix using their database of user ratings to predict how you would rate a movie you haven’t seen\u001b[0m\n",
      "\u001b[35m4. Predicting a buyer's chance of clicking on an online advertisement based on the previous behavior of similar online shoppers.\u001b[0m\n"
     ]
    },
    {
     "name": "stdin",
     "output_type": "stream",
     "text": [
      "Choose multiple answers 34\n"
     ]
    },
    {
     "name": "stdout",
     "output_type": "stream",
     "text": [
      "Correct!\n",
      "\n",
      "\u001b[34mXXXVII. If 5% of your samples have incorrect labels in your available labelled data, which option is likely best to improve model accuracy?\u001b[0m\n",
      "\u001b[35m1. Add/remove features\u001b[0m\n",
      "\u001b[35m2. Derive/predict new features from current features in your data set\u001b[0m\n",
      "\u001b[35m3. Get more samples (even if they are 1% in error)\u001b[0m\n",
      "\u001b[35m4. Change your hyperparameter to avoid overfitting\u001b[0m\n"
     ]
    },
    {
     "name": "stdin",
     "output_type": "stream",
     "text": [
      "Choose one correct answer 4\n"
     ]
    },
    {
     "name": "stdout",
     "output_type": "stream",
     "text": [
      "Correct!\n",
      "\n",
      "\u001b[34mXXXVIII. Check all components of a fully-specified Bayesian network\u001b[0m\n",
      "\u001b[35m1. Notes representing variables\u001b[0m\n",
      "\u001b[35m2. Prior probabilities for root nodes\u001b[0m\n",
      "\u001b[35m3. Conditional probability tables (or probability functions if continuous) quantifying the dependencies which the links represent\u001b[0m\n",
      "\u001b[35m4. Links between the nodes representing dependencies between variables\u001b[0m\n"
     ]
    },
    {
     "name": "stdin",
     "output_type": "stream",
     "text": [
      "Choose multiple answers 1234\n"
     ]
    },
    {
     "name": "stdout",
     "output_type": "stream",
     "text": [
      "Correct!\n",
      "\n",
      "\u001b[34mXXXIX. Which of the following is not an explicit part of the standard Q-learning equation?\u001b[0m\n",
      "\u001b[35m1. A learning rate\u001b[0m\n",
      "\u001b[35m2. Reward prediction error\u001b[0m\n",
      "\u001b[35m3. Temporal discounting\u001b[0m\n",
      "\u001b[35m4. State-action value function\u001b[0m\n",
      "\u001b[35m5. The policy function\u001b[0m\n"
     ]
    },
    {
     "name": "stdin",
     "output_type": "stream",
     "text": [
      "Choose one correct answer 5\n"
     ]
    },
    {
     "name": "stdout",
     "output_type": "stream",
     "text": [
      "Correct!\n",
      "\n",
      "\u001b[34mXL. What is the best description of what a link between nodes represents in a Bayesian network?\u001b[0m\n",
      "\u001b[35m1. Any variables that are not independent from each other require a direct link\u001b[0m\n",
      "\u001b[35m2. Linking direct dependences, not necessarily causal.\u001b[0m\n",
      "\u001b[35m3. Only between variables that are directly causal, from cause to effect.\u001b[0m\n"
     ]
    },
    {
     "name": "stdin",
     "output_type": "stream",
     "text": [
      "Choose one correct answer 2\n"
     ]
    },
    {
     "name": "stdout",
     "output_type": "stream",
     "text": [
      "Correct!\n",
      "\n",
      "\u001b[34mXLI. PCA...\u001b[0m\n",
      "\u001b[35m1. Is used for visualizing high-dimensional data sets\u001b[0m\n",
      "\u001b[35m2. Stands for Preferred Components Analysis\u001b[0m\n",
      "\u001b[35m3. Is a type of factor analysis which can reduce the dimensionality of data\u001b[0m\n",
      "\u001b[35m4. Is performed by finding the linear combination of features that explain most of the variance in the data, then removing that feature's impact, and continuing the process. It's a greedy algorithm with earlier features being the more important ones, and later features essentially just noise in most cases\u001b[0m\n"
     ]
    },
    {
     "name": "stdin",
     "output_type": "stream",
     "text": [
      "Choose multiple answers 34\n"
     ]
    },
    {
     "name": "stdout",
     "output_type": "stream",
     "text": [
      "Correct!\n",
      "\n",
      "\u001b[34mXLII. Assuming the value of B is observed (\"known\"), in which of the graphs would the value of node A now depend upon the value of node C.\u001b[0m\n",
      "\u001b[35m1. A --> B <-- C\u001b[0m\n",
      "\u001b[35m2. A <-- B --> C\u001b[0m\n",
      "\u001b[35m3. A --> B --> C\u001b[0m\n",
      "\u001b[35m4. A <-- B <-- C\u001b[0m\n"
     ]
    },
    {
     "name": "stdin",
     "output_type": "stream",
     "text": [
      "Choose one correct answer 1\n"
     ]
    },
    {
     "name": "stdout",
     "output_type": "stream",
     "text": [
      "Correct!\n",
      "\n",
      "\u001b[34mXLIII. Check which of the following are associated with Bagging instead of Boosting\u001b[0m\n",
      "\u001b[35m1. This is a common strategy to combine multiple learners, even if they are from completely different modeling strategies (e.g. combining logistic regression and naive bayes)\u001b[0m\n",
      "\u001b[35m2. This is more likely to be used for models which are weak learners, like decision stumps - decision trees with only one level.\u001b[0m\n",
      "\u001b[35m3. This is more likely to be used for models which have the potential to overfit, like decision trees with no restrictions.\u001b[0m\n",
      "\u001b[35m4. Random forest classifiers use this technique\u001b[0m\n"
     ]
    },
    {
     "name": "stdin",
     "output_type": "stream",
     "text": [
      "Choose multiple answers 34\n"
     ]
    },
    {
     "name": "stdout",
     "output_type": "stream",
     "text": [
      "Correct!\n",
      "\n",
      "\u001b[34mXLIV. The proportion of correctly identified samples from the test samples that were identified as belonging to a particular class by the classifier is called...\u001b[0m\n",
      "\u001b[35m1. Recall\u001b[0m\n",
      "\u001b[35m2. F1 Score\u001b[0m\n",
      "\u001b[35m3. Sensitivity\u001b[0m\n",
      "\u001b[35m4. Precision\u001b[0m\n"
     ]
    },
    {
     "name": "stdin",
     "output_type": "stream",
     "text": [
      "Choose one correct answer 4\n"
     ]
    },
    {
     "name": "stdout",
     "output_type": "stream",
     "text": [
      "Correct!\n",
      "\n",
      "\u001b[34mXLV. Choose correct answers\u001b[0m\n",
      "\u001b[35m1. In Ridge Regression, irrelevant feature coefficients will often be set to zero, effectively removing them from the model\u001b[0m\n",
      "\u001b[35m2. In Lasso Regression, irrelevant feature coefficients will often be set to zero, effectively removing them from the model\u001b[0m\n",
      "\u001b[35m3. In Lasso Regression, irrelevant feature coefficients will be pushed to zero, but likely not completely removed\u001b[0m\n",
      "\u001b[35m4. In Ridge Regression, irrelevant feature coefficients will be pushed to zero, but likely not completely removed\u001b[0m\n"
     ]
    },
    {
     "name": "stdin",
     "output_type": "stream",
     "text": [
      "Choose multiple answers 24\n"
     ]
    },
    {
     "name": "stdout",
     "output_type": "stream",
     "text": [
      "Correct!\n",
      "\n",
      "\u001b[34mXLVI. Check which of the following are associated with Bagging instead of Boosting\u001b[0m\n",
      "\u001b[35m1. The features (commonly the columns in a data set) and samples/observations (commonly the rows in a data set) may be resampled. And this can be done with or without replacement.\u001b[0m\n",
      "\u001b[35m2. All estimators are weighted equally.\u001b[0m\n",
      "\u001b[35m3. This technique is one of the reasons that some Kaggle competitions don’t allow teams to merge during competitions (e.g. team #2 and #3 join together)\u001b[0m\n"
     ]
    },
    {
     "name": "stdin",
     "output_type": "stream",
     "text": [
      "Choose multiple answers 12\n"
     ]
    },
    {
     "name": "stdout",
     "output_type": "stream",
     "text": [
      "Correct!\n",
      "\n",
      "\u001b[34mXLVII. Assuming none of the variables are observed, in which of the graphs would the value of node A depend upon the value of node C. Multiple possible. Note, node B is NOT observed.\u001b[0m\n",
      "\u001b[35m1. A <-- B <-- C\u001b[0m\n",
      "\u001b[35m2. A <-- B --> C\u001b[0m\n",
      "\u001b[35m3. A --> B --> C\u001b[0m\n",
      "\u001b[35m4. A --> B <-- C\u001b[0m\n"
     ]
    },
    {
     "name": "stdin",
     "output_type": "stream",
     "text": [
      "Choose multiple answers 123\n"
     ]
    },
    {
     "name": "stdout",
     "output_type": "stream",
     "text": [
      "Correct!\n",
      "\n",
      "\u001b[34mXLVIII. Cross-validation will lead to lower accuracies than expected with the full training set because only (K-1)/K % of the data is being used for training (e.g. 4/5ths for K=5). The way to improve this is by increasing K. But what is a problem with increasing K?\u001b[0m\n",
      "\u001b[35m1. The number of samples in the data set may not be perfectly divisible by K\u001b[0m\n",
      "\u001b[35m2. The separated test set is getting small and may bias results of the cross-validation\u001b[0m\n",
      "\u001b[35m3. K models have to be trained which takes more time as K increases\u001b[0m\n"
     ]
    },
    {
     "name": "stdin",
     "output_type": "stream",
     "text": [
      "Choose one correct answer 3\n"
     ]
    },
    {
     "name": "stdout",
     "output_type": "stream",
     "text": [
      "Correct!\n",
      "\n",
      "\u001b[34mXLIX. Check all the ways of initializing K-means\u001b[0m\n",
      "\u001b[35m1. Initialize all centroids at the origin - e.g. (0,0)\u001b[0m\n",
      "\u001b[35m2. Randomly choose samples as the initial centroids\u001b[0m\n",
      "\u001b[35m3. Randomly assign all samples to one of K classes\u001b[0m\n",
      "\u001b[35m4. Initialize all centroids at the mean of all the samples\u001b[0m\n"
     ]
    },
    {
     "name": "stdin",
     "output_type": "stream",
     "text": [
      "Choose multiple answers 23\n"
     ]
    },
    {
     "name": "stdout",
     "output_type": "stream",
     "text": [
      "Correct!\n",
      "\n",
      "\u001b[34mL. Which is an example of \"explaining away\"? That is, how a shared child node can indicate a dependency among parent nodes only when observed.\u001b[0m\n",
      "\u001b[35m1. When you see someone smoking, you know their odds of having a positive lung X-ray for cancer are higher.\u001b[0m\n",
      "\u001b[35m2. Seeing someone with lung cancer is smoking makes you less likely to assume the cancer is from high levels of pollution.\u001b[0m\n",
      "\u001b[35m3. A positive result on a lung X-ray indicates a high probability that someone has lung cancer\u001b[0m\n"
     ]
    },
    {
     "name": "stdin",
     "output_type": "stream",
     "text": [
      "Choose one correct answer 2\n"
     ]
    },
    {
     "name": "stdout",
     "output_type": "stream",
     "text": [
      "Correct!\n",
      "\n",
      "You get 96.00%\n"
     ]
    }
   ],
   "source": [
    "file_name = \"5215.txt\"\n",
    "doc = read_a_file(file_name, general_choice_pattern=r'^\\s*-\\s*\\[\\s*\\w*\\s*\\]\\s*',\n",
    "                  correct_choice_pattern=r'^\\s*-\\s*\\[\\s*\\w\\s*\\]\\s*')\n",
    "create_a_nicer_file(doc, file_name.split(\".\", 1)[0] + \".txt\")\n",
    "doc.learn()"
   ]
  }
 ],
 "metadata": {
  "kernelspec": {
   "display_name": "Python 3 (ipykernel)",
   "language": "python",
   "name": "python3"
  },
  "language_info": {
   "codemirror_mode": {
    "name": "ipython",
    "version": 3
   },
   "file_extension": ".py",
   "mimetype": "text/x-python",
   "name": "python",
   "nbconvert_exporter": "python",
   "pygments_lexer": "ipython3",
   "version": "3.9.5"
  }
 },
 "nbformat": 4,
 "nbformat_minor": 5
}
