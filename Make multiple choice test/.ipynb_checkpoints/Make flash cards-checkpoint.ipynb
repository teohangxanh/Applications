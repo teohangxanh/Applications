{
 "cells": [
  {
   "cell_type": "code",
   "execution_count": 1,
   "id": "greek-programmer",
   "metadata": {
    "execution": {
     "iopub.execute_input": "2021-04-15T22:28:33.683511Z",
     "iopub.status.busy": "2021-04-15T22:28:33.683511Z",
     "iopub.status.idle": "2021-04-15T22:28:33.697524Z",
     "shell.execute_reply": "2021-04-15T22:28:33.696523Z",
     "shell.execute_reply.started": "2021-04-15T22:28:33.683511Z"
    }
   },
   "outputs": [],
   "source": [
    "class Flash_card:\n",
    "    question = ''\n",
    "    demo = ''\n",
    "    choices = list()\n",
    "    correct_choice = list()\n",
    "    \n",
    "    # Constructor\n",
    "    def __init__(self, question, demo, choices, correct_choice):\n",
    "        self.question = question\n",
    "        self.demo = demo\n",
    "        self.choices = choices\n",
    "        self.correct_choice = correct_choice\n",
    "    \n",
    "    # Shuffle all choices\n",
    "    def shuffle_choices(self):\n",
    "        np.random.shuffle(self.choices)   "
   ]
  },
  {
   "cell_type": "code",
   "execution_count": 2,
   "id": "superior-meter",
   "metadata": {
    "execution": {
     "iopub.execute_input": "2021-04-15T22:28:33.698525Z",
     "iopub.status.busy": "2021-04-15T22:28:33.698525Z",
     "iopub.status.idle": "2021-04-15T22:28:33.888691Z",
     "shell.execute_reply": "2021-04-15T22:28:33.888691Z",
     "shell.execute_reply.started": "2021-04-15T22:28:33.698525Z"
    }
   },
   "outputs": [],
   "source": [
    "from termcolor import colored\n",
    "import numpy as np\n",
    "\n",
    "class Folder:\n",
    "    my_flash = list()\n",
    "    correct = 0\n",
    "        \n",
    "    def learn(self):\n",
    "        # Shuffle order of questions\n",
    "        np.random.shuffle(self.my_flash)\n",
    "        for i, flash in enumerate(self.my_flash, 1):\n",
    "            print(colored(f'Q{i}. {flash.question}', 'blue'))\n",
    "            if flash.demo:\n",
    "                print(flash.demo.strip())\n",
    "            # Shuffle choices\n",
    "            flash.shuffle_choices()\n",
    "            for index, c in enumerate(flash.choices):\n",
    "                print(colored(f'{chr(index+97)}. {c}', 'magenta'))\n",
    "            answers = []\n",
    "            for j, _ in enumerate(flash.correct_choice, 1):\n",
    "                answer = input(f'Choose answer {j} of {len(flash.correct_choice)}')\n",
    "                # User chooses a, b, c, etc. instead of number\n",
    "                while ord(answer) - 97 < 0 or ord(answer) - 97 >= len(flash.choices):\n",
    "                    answer = input(f'Choose your answer between {chr(97)} and {chr(96 + len(flash.choices))}')\n",
    "                answers.append(flash.choices[ord(answer) - 97])\n",
    "            if sorted(answers) == sorted(flash.correct_choice):\n",
    "                print('Correct!')\n",
    "                self.correct += 1\n",
    "            else:\n",
    "                print(colored(f'Wrong! Correct choice should be: ', 'yellow'), end='')\n",
    "                print(colored('\\n'.join(flash.correct_choice), 'red'))\n",
    "            print()\n",
    "        print(f'You get {self.correct * 100 / len(self.my_flash):.2f}%')"
   ]
  },
  {
   "cell_type": "code",
   "execution_count": 3,
   "id": "optional-checkout",
   "metadata": {
    "execution": {
     "iopub.execute_input": "2021-04-15T22:28:33.890695Z",
     "iopub.status.busy": "2021-04-15T22:28:33.889693Z",
     "iopub.status.idle": "2021-04-15T22:28:33.905710Z",
     "shell.execute_reply": "2021-04-15T22:28:33.904708Z",
     "shell.execute_reply.started": "2021-04-15T22:28:33.890695Z"
    }
   },
   "outputs": [],
   "source": [
    "def read_a_file(file_path: str) -> Folder:\n",
    "    doc = Folder()\n",
    "    with open(file_path, 'r') as f:\n",
    "        q, demo, correct_choice, choices = '', '', [], []\n",
    "        for l in f:\n",
    "            if l.startswith('####'):\n",
    "                # Add question\n",
    "                q = l[l.find('.')+1:].strip()\n",
    "            elif l[:3] not in ['###', '- [', '\\n', '\\r\\n']:\n",
    "                demo += l.strip() + '\\n'\n",
    "            elif l.startswith('- ['):\n",
    "                if l.startswith('- [x'):\n",
    "                    correct_choice.append(l[6:].strip())\n",
    "                choices.append(l[5:].strip())\n",
    "            # Detect a blank line\n",
    "            elif l in ['\\n', '\\r\\n']:\n",
    "                a_flash_card = Flash_card(question=q, demo=demo, choices=choices, correct_choice=correct_choice)\n",
    "                doc.my_flash.append(a_flash_card)\n",
    "                q, demo, correct_choice, choices = '', '', [], []\n",
    "    return doc"
   ]
  },
  {
   "cell_type": "code",
   "execution_count": 4,
   "id": "direct-blame",
   "metadata": {
    "execution": {
     "iopub.execute_input": "2021-04-15T22:28:33.908713Z",
     "iopub.status.busy": "2021-04-15T22:28:33.908713Z",
     "iopub.status.idle": "2021-04-15T22:28:33.921723Z",
     "shell.execute_reply": "2021-04-15T22:28:33.920722Z",
     "shell.execute_reply.started": "2021-04-15T22:28:33.908713Z"
    }
   },
   "outputs": [],
   "source": [
    "def create_a_nicer_file(doc: Folder, filename: str):\n",
    "    '''\n",
    "    This is to create a nicer Q&A file name from doc a Folder instance\n",
    "    '''\n",
    "    with open(str(filename), 'w') as f:\n",
    "        for i, flash in enumerate(doc.my_flash, 1):\n",
    "            f.write(f'####Q{i}. {flash.question}\\n') # Write question\n",
    "            if flash.demo != '': # Write demo if it exists\n",
    "                f.write(flash.demo)\n",
    "            flash.shuffle_choices() # Shuffle choices\n",
    "            for choice in flash.choices:\n",
    "                if choice in flash.correct_choice:\n",
    "                    f.write(f'- [x] {choice}')\n",
    "                else:\n",
    "                    f.write(f'- [ ] {choice}')\n",
    "            f.write('\\n')"
   ]
  },
  {
   "cell_type": "code",
   "execution_count": 5,
   "id": "breathing-castle",
   "metadata": {
    "execution": {
     "iopub.execute_input": "2021-04-15T22:28:33.923725Z",
     "iopub.status.busy": "2021-04-15T22:28:33.923725Z",
     "iopub.status.idle": "2021-04-15T22:31:09.290208Z",
     "shell.execute_reply": "2021-04-15T22:31:09.288176Z",
     "shell.execute_reply.started": "2021-04-15T22:28:33.923725Z"
    }
   },
   "outputs": [
    {
     "name": "stdout",
     "output_type": "stream",
     "text": [
      "\u001b[34mQ1. What does refs store?\u001b[0m\n",
      "\u001b[35ma. SHA-1 value\u001b[0m\n",
      "\u001b[35mb. Branch name\u001b[0m\n",
      "\u001b[35mc. Project name\u001b[0m\n",
      "\u001b[35md. None of these\u001b[0m\n"
     ]
    },
    {
     "name": "stdin",
     "output_type": "stream",
     "text": [
      "Choose answer 1 of 1 a\n"
     ]
    },
    {
     "name": "stdout",
     "output_type": "stream",
     "text": [
      "Correct!\n",
      "\n",
      "\u001b[34mQ2. While modifying a file, you're unexpectedly assigned an urgent bug fix on another branch. How can you temporarily save your local work without committing?\u001b[0m\n",
      "\u001b[35ma. Run git hold to save a local copy of what you're doing to return to later.\u001b[0m\n",
      "\u001b[35mb. Save your work with git local-cache.\u001b[0m\n",
      "\u001b[35mc. Use git stash to save your work, then come back later and reapply the stashed commit.\u001b[0m\n",
      "\u001b[35md. This is not possible, as you cannot save locally without committing.\u001b[0m\n"
     ]
    },
    {
     "name": "stdin",
     "output_type": "stream",
     "text": [
      "Choose answer 1 of 1 u\n",
      "Choose your answer between a and d t\n",
      "Choose your answer between a and d c\n"
     ]
    },
    {
     "name": "stdout",
     "output_type": "stream",
     "text": [
      "Correct!\n",
      "\n",
      "\u001b[34mQ3. Where are files stored before they are committed to the local repository?\u001b[0m\n",
      "\u001b[35ma. Saved files\u001b[0m\n",
      "\u001b[35mb. git cache\u001b[0m\n",
      "\u001b[35mc. git documents\u001b[0m\n",
      "\u001b[35md. Staging area\u001b[0m\n"
     ]
    },
    {
     "name": "stdin",
     "output_type": "stream",
     "text": [
      "Choose answer 1 of 1 s\n",
      "Choose your answer between a and d c\n"
     ]
    },
    {
     "name": "stdout",
     "output_type": "stream",
     "text": [
      "\u001b[33mWrong! Correct choice should be: \u001b[0m\u001b[31mStaging area\u001b[0m\n",
      "\n",
      "\u001b[34mQ4. How would you configure Git to abort a commit if a smoke test script fails?\u001b[0m\n",
      "\u001b[35ma. Create a pre-commit hook to trigger the script.\u001b[0m\n",
      "\u001b[35mb. Create a post-commit shell script that triggers the action.\u001b[0m\n",
      "\u001b[35mc. Create a pre-commit shell script that triggers the action.\u001b[0m\n",
      "\u001b[35md. Create a post-commit hook to trigger the script.\u001b[0m\n"
     ]
    },
    {
     "ename": "KeyboardInterrupt",
     "evalue": "Interrupted by user",
     "output_type": "error",
     "traceback": [
      "\u001b[1;31m---------------------------------------------------------------------------\u001b[0m",
      "\u001b[1;31mKeyboardInterrupt\u001b[0m                         Traceback (most recent call last)",
      "\u001b[1;32m<ipython-input-5-55dc57e71518>\u001b[0m in \u001b[0;36m<module>\u001b[1;34m\u001b[0m\n\u001b[0;32m      1\u001b[0m \u001b[0mdoc\u001b[0m \u001b[1;33m=\u001b[0m \u001b[0mread_a_file\u001b[0m\u001b[1;33m(\u001b[0m\u001b[1;34m'Git.txt'\u001b[0m\u001b[1;33m)\u001b[0m\u001b[1;33m\u001b[0m\u001b[1;33m\u001b[0m\u001b[0m\n\u001b[0;32m      2\u001b[0m \u001b[1;31m# create_a_nicer_file(doc, 'NoSQL1.txt')\u001b[0m\u001b[1;33m\u001b[0m\u001b[1;33m\u001b[0m\u001b[1;33m\u001b[0m\u001b[0m\n\u001b[1;32m----> 3\u001b[1;33m \u001b[0mdoc\u001b[0m\u001b[1;33m.\u001b[0m\u001b[0mlearn\u001b[0m\u001b[1;33m(\u001b[0m\u001b[1;33m)\u001b[0m\u001b[1;33m\u001b[0m\u001b[1;33m\u001b[0m\u001b[0m\n\u001b[0m",
      "\u001b[1;32m<ipython-input-2-93532d7bc638>\u001b[0m in \u001b[0;36mlearn\u001b[1;34m(self)\u001b[0m\n\u001b[0;32m     19\u001b[0m             \u001b[0manswers\u001b[0m \u001b[1;33m=\u001b[0m \u001b[1;33m[\u001b[0m\u001b[1;33m]\u001b[0m\u001b[1;33m\u001b[0m\u001b[1;33m\u001b[0m\u001b[0m\n\u001b[0;32m     20\u001b[0m             \u001b[1;32mfor\u001b[0m \u001b[0mj\u001b[0m\u001b[1;33m,\u001b[0m \u001b[0m_\u001b[0m \u001b[1;32min\u001b[0m \u001b[0menumerate\u001b[0m\u001b[1;33m(\u001b[0m\u001b[0mflash\u001b[0m\u001b[1;33m.\u001b[0m\u001b[0mcorrect_choice\u001b[0m\u001b[1;33m,\u001b[0m \u001b[1;36m1\u001b[0m\u001b[1;33m)\u001b[0m\u001b[1;33m:\u001b[0m\u001b[1;33m\u001b[0m\u001b[1;33m\u001b[0m\u001b[0m\n\u001b[1;32m---> 21\u001b[1;33m                 \u001b[0manswer\u001b[0m \u001b[1;33m=\u001b[0m \u001b[0minput\u001b[0m\u001b[1;33m(\u001b[0m\u001b[1;34mf'Choose answer {j} of {len(flash.correct_choice)}'\u001b[0m\u001b[1;33m)\u001b[0m\u001b[1;33m\u001b[0m\u001b[1;33m\u001b[0m\u001b[0m\n\u001b[0m\u001b[0;32m     22\u001b[0m                 \u001b[1;31m# User chooses a, b, c, etc. instead of number\u001b[0m\u001b[1;33m\u001b[0m\u001b[1;33m\u001b[0m\u001b[1;33m\u001b[0m\u001b[0m\n\u001b[0;32m     23\u001b[0m                 \u001b[1;32mwhile\u001b[0m \u001b[0mord\u001b[0m\u001b[1;33m(\u001b[0m\u001b[0manswer\u001b[0m\u001b[1;33m)\u001b[0m \u001b[1;33m-\u001b[0m \u001b[1;36m97\u001b[0m \u001b[1;33m<\u001b[0m \u001b[1;36m0\u001b[0m \u001b[1;32mor\u001b[0m \u001b[0mord\u001b[0m\u001b[1;33m(\u001b[0m\u001b[0manswer\u001b[0m\u001b[1;33m)\u001b[0m \u001b[1;33m-\u001b[0m \u001b[1;36m97\u001b[0m \u001b[1;33m>=\u001b[0m \u001b[0mlen\u001b[0m\u001b[1;33m(\u001b[0m\u001b[0mflash\u001b[0m\u001b[1;33m.\u001b[0m\u001b[0mchoices\u001b[0m\u001b[1;33m)\u001b[0m\u001b[1;33m:\u001b[0m\u001b[1;33m\u001b[0m\u001b[1;33m\u001b[0m\u001b[0m\n",
      "\u001b[1;32m~\\miniconda3\\envs\\gputest\\lib\\site-packages\\ipykernel\\kernelbase.py\u001b[0m in \u001b[0;36mraw_input\u001b[1;34m(self, prompt)\u001b[0m\n\u001b[0;32m    861\u001b[0m             \u001b[0mself\u001b[0m\u001b[1;33m.\u001b[0m\u001b[0m_parent_ident\u001b[0m\u001b[1;33m,\u001b[0m\u001b[1;33m\u001b[0m\u001b[1;33m\u001b[0m\u001b[0m\n\u001b[0;32m    862\u001b[0m             \u001b[0mself\u001b[0m\u001b[1;33m.\u001b[0m\u001b[0m_parent_header\u001b[0m\u001b[1;33m,\u001b[0m\u001b[1;33m\u001b[0m\u001b[1;33m\u001b[0m\u001b[0m\n\u001b[1;32m--> 863\u001b[1;33m             \u001b[0mpassword\u001b[0m\u001b[1;33m=\u001b[0m\u001b[1;32mFalse\u001b[0m\u001b[1;33m,\u001b[0m\u001b[1;33m\u001b[0m\u001b[1;33m\u001b[0m\u001b[0m\n\u001b[0m\u001b[0;32m    864\u001b[0m         )\n\u001b[0;32m    865\u001b[0m \u001b[1;33m\u001b[0m\u001b[0m\n",
      "\u001b[1;32m~\\miniconda3\\envs\\gputest\\lib\\site-packages\\ipykernel\\kernelbase.py\u001b[0m in \u001b[0;36m_input_request\u001b[1;34m(self, prompt, ident, parent, password)\u001b[0m\n\u001b[0;32m    902\u001b[0m             \u001b[1;32mexcept\u001b[0m \u001b[0mKeyboardInterrupt\u001b[0m\u001b[1;33m:\u001b[0m\u001b[1;33m\u001b[0m\u001b[1;33m\u001b[0m\u001b[0m\n\u001b[0;32m    903\u001b[0m                 \u001b[1;31m# re-raise KeyboardInterrupt, to truncate traceback\u001b[0m\u001b[1;33m\u001b[0m\u001b[1;33m\u001b[0m\u001b[1;33m\u001b[0m\u001b[0m\n\u001b[1;32m--> 904\u001b[1;33m                 \u001b[1;32mraise\u001b[0m \u001b[0mKeyboardInterrupt\u001b[0m\u001b[1;33m(\u001b[0m\u001b[1;34m\"Interrupted by user\"\u001b[0m\u001b[1;33m)\u001b[0m \u001b[1;32mfrom\u001b[0m \u001b[1;32mNone\u001b[0m\u001b[1;33m\u001b[0m\u001b[1;33m\u001b[0m\u001b[0m\n\u001b[0m\u001b[0;32m    905\u001b[0m             \u001b[1;32mexcept\u001b[0m \u001b[0mException\u001b[0m \u001b[1;32mas\u001b[0m \u001b[0me\u001b[0m\u001b[1;33m:\u001b[0m\u001b[1;33m\u001b[0m\u001b[1;33m\u001b[0m\u001b[0m\n\u001b[0;32m    906\u001b[0m                 \u001b[0mself\u001b[0m\u001b[1;33m.\u001b[0m\u001b[0mlog\u001b[0m\u001b[1;33m.\u001b[0m\u001b[0mwarning\u001b[0m\u001b[1;33m(\u001b[0m\u001b[1;34m\"Invalid Message:\"\u001b[0m\u001b[1;33m,\u001b[0m \u001b[0mexc_info\u001b[0m\u001b[1;33m=\u001b[0m\u001b[1;32mTrue\u001b[0m\u001b[1;33m)\u001b[0m\u001b[1;33m\u001b[0m\u001b[1;33m\u001b[0m\u001b[0m\n",
      "\u001b[1;31mKeyboardInterrupt\u001b[0m: Interrupted by user"
     ]
    }
   ],
   "source": [
    "doc = read_a_file('Git.txt')\n",
    "# create_a_nicer_file(doc, 'NoSQL1.txt')\n",
    "doc.learn()"
   ]
  }
 ],
 "metadata": {
  "kernelspec": {
   "display_name": "Python [conda env:gputest] *",
   "language": "python",
   "name": "conda-env-gputest-py"
  },
  "language_info": {
   "codemirror_mode": {
    "name": "ipython",
    "version": 3
   },
   "file_extension": ".py",
   "mimetype": "text/x-python",
   "name": "python",
   "nbconvert_exporter": "python",
   "pygments_lexer": "ipython3",
   "version": "3.7.9"
  }
 },
 "nbformat": 4,
 "nbformat_minor": 5
}
