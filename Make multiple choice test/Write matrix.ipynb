{
 "cells": [
  {
   "cell_type": "code",
   "execution_count": 33,
   "id": "57fb52ff-0e38-4a72-95ea-2dd614668da1",
   "metadata": {},
   "outputs": [],
   "source": [
    "import random as rd\n",
    "\n",
    "m = p = 1000\n",
    "n = 100\n",
    "\n",
    "def write_matrix(name, rows, cols):\n",
    "    with open(name, \"w\") as text_file:\n",
    "        for i in range(rows):\n",
    "            matrix = name[0].upper()\n",
    "            for j in range(cols):\n",
    "                matrix += ',' + str(rd.random())\n",
    "            text_file.write(f'{matrix}\\n')\n",
    "write_matrix('m.txt', m, n)\n",
    "write_matrix('n.txt', n, p)"
   ]
  }
 ],
 "metadata": {
  "kernelspec": {
   "display_name": "Python 3 (ipykernel)",
   "language": "python",
   "name": "python3"
  },
  "language_info": {
   "codemirror_mode": {
    "name": "ipython",
    "version": 3
   },
   "file_extension": ".py",
   "mimetype": "text/x-python",
   "name": "python",
   "nbconvert_exporter": "python",
   "pygments_lexer": "ipython3",
   "version": "3.9.7"
  }
 },
 "nbformat": 4,
 "nbformat_minor": 5
}
